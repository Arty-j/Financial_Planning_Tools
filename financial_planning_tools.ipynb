{
 "cells": [
  {
   "cell_type": "markdown",
   "metadata": {},
   "source": [
    "# Financial Planning with APIs and Simulations\n",
    "\n",
    "In this Challenge, you’ll create two financial analysis tools by using a single Jupyter notebook:\n",
    "\n",
    "Part 1: A financial planner for emergencies. The members will be able to use this tool to visualize their current savings. The members can then determine if they have enough reserves for an emergency fund.\n",
    "\n",
    "Part 2: A financial planner for retirement. This tool will forecast the performance of their retirement portfolio in 30 years. To do this, the tool will make an Alpaca API call via the Alpaca SDK to get historical price data for use in Monte Carlo simulations.\n",
    "\n",
    "You’ll use the information from the Monte Carlo simulation to answer questions about the portfolio in your Jupyter notebook.\n",
    "\n"
   ]
  },
  {
   "cell_type": "code",
   "execution_count": 20,
   "metadata": {},
   "outputs": [],
   "source": [
    "# Import the required libraries and dependencies\n",
    "import os\n",
    "import requests\n",
    "import json\n",
    "import pandas as pd\n",
    "from dotenv import load_dotenv\n",
    "import alpaca_trade_api as tradeapi\n",
    "from MCForecastTools import MCSimulation\n",
    "\n",
    "%matplotlib inline"
   ]
  },
  {
   "cell_type": "code",
   "execution_count": 21,
   "metadata": {},
   "outputs": [
    {
     "data": {
      "text/plain": [
       "True"
      ]
     },
     "execution_count": 21,
     "metadata": {},
     "output_type": "execute_result"
    }
   ],
   "source": [
    "# Load the environment variables from the .env file\n",
    "#by calling the load_dotenv function\n",
    "load_dotenv()"
   ]
  },
  {
   "cell_type": "markdown",
   "metadata": {},
   "source": [
    "## Part 1: Create a Financial Planner for Emergencies"
   ]
  },
  {
   "cell_type": "markdown",
   "metadata": {},
   "source": [
    "### Evaluate the Cryptocurrency Wallet by Using the Requests Library\n",
    "\n",
    "In this section, you’ll determine the current value of a member’s cryptocurrency wallet. You’ll collect the current prices for the Bitcoin and Ethereum cryptocurrencies by using the Python Requests library. For the prototype, you’ll assume that the member holds the 1.2 Bitcoins (BTC) and 5.3 Ethereum coins (ETH). To do all this, complete the following steps:\n",
    "\n",
    "1. Create a variable named `monthly_income`, and set its value to `12000`.\n",
    "\n",
    "2. Use the Requests library to get the current price (in US dollars) of Bitcoin (BTC) and Ethereum (ETH) by using the API endpoints that the starter code supplies.\n",
    "\n",
    "3. Navigate the JSON response object to access the current price of each coin, and store each in a variable.\n",
    "\n",
    "    > **Hint** Note the specific identifier for each cryptocurrency in the API JSON response. The Bitcoin identifier is `1`, and the Ethereum identifier is `1027`.\n",
    "\n",
    "4. Calculate the value, in US dollars, of the current amount of each cryptocurrency and of the entire cryptocurrency wallet.\n",
    "\n"
   ]
  },
  {
   "cell_type": "code",
   "execution_count": 22,
   "metadata": {},
   "outputs": [],
   "source": [
    "# The current number of coins for each cryptocurrency asset held in the portfolio.\n",
    "btc_coins = 1.2\n",
    "eth_coins = 5.3"
   ]
  },
  {
   "cell_type": "markdown",
   "metadata": {},
   "source": [
    "#### Step 1: Create a variable named `monthly_income`, and set its value to `12000`."
   ]
  },
  {
   "cell_type": "code",
   "execution_count": 23,
   "metadata": {},
   "outputs": [],
   "source": [
    "# The monthly amount for the member's household income\n",
    "monthly_income = 12000\n"
   ]
  },
  {
   "cell_type": "markdown",
   "metadata": {},
   "source": [
    "#### Review the endpoint URLs for the API calls to Free Crypto API in order to get the current pricing information for both BTC and ETH."
   ]
  },
  {
   "cell_type": "code",
   "execution_count": 24,
   "metadata": {},
   "outputs": [],
   "source": [
    "# The Free Crypto API Call endpoint URLs for the held cryptocurrency assets\n",
    "btc_url = \"https://api.alternative.me/v2/ticker/Bitcoin/?convert=USD\"\n",
    "eth_url = \"https://api.alternative.me/v2/ticker/Ethereum/?convert=USD\""
   ]
  },
  {
   "cell_type": "markdown",
   "metadata": {},
   "source": [
    "#### Step 2. Use the Requests library to get the current price (in US dollars) of Bitcoin (BTC) and Ethereum (ETH) by using the API endpoints that the starter code supplied."
   ]
  },
  {
   "cell_type": "code",
   "execution_count": 25,
   "metadata": {
    "tags": []
   },
   "outputs": [
    {
     "name": "stdout",
     "output_type": "stream",
     "text": [
      "{\n",
      "    \"data\": {\n",
      "        \"1\": {\n",
      "            \"circulating_supply\": 19185793,\n",
      "            \"id\": 1,\n",
      "            \"last_updated\": 1666386270,\n",
      "            \"max_supply\": 21000000,\n",
      "            \"name\": \"Bitcoin\",\n",
      "            \"quotes\": {\n",
      "                \"USD\": {\n",
      "                    \"market_cap\": 368183048649,\n",
      "                    \"percent_change_1h\": -0.375368123931018,\n",
      "                    \"percent_change_24h\": 0.669610628495724,\n",
      "                    \"percent_change_7d\": -1.12431265196781,\n",
      "                    \"percentage_change_1h\": -0.375368123931018,\n",
      "                    \"percentage_change_24h\": 0.669610628495724,\n",
      "                    \"percentage_change_7d\": -1.12431265196781,\n",
      "                    \"price\": 19166.01,\n",
      "                    \"volume_24h\": 30768786055\n",
      "                }\n",
      "            },\n",
      "            \"rank\": 1,\n",
      "            \"symbol\": \"BTC\",\n",
      "            \"total_supply\": 19185793,\n",
      "            \"website_slug\": \"bitcoin\"\n",
      "        }\n",
      "    },\n",
      "    \"metadata\": {\n",
      "        \"error\": null,\n",
      "        \"num_cryptocurrencies\": 3116,\n",
      "        \"timestamp\": 1666386270\n",
      "    }\n",
      "}\n"
     ]
    }
   ],
   "source": [
    "# Using the Python requests library, make an API call to access the current price of BTC\n",
    "btc_response = requests.get(btc_url).json()\n",
    "\n",
    "# Use the json.dumps function to review the response data from the API call\n",
    "# Use the indent and sort_keys parameters to make the response object readable\n",
    "print(json.dumps(btc_response, indent=4, sort_keys=True))\n"
   ]
  },
  {
   "cell_type": "code",
   "execution_count": 26,
   "metadata": {
    "tags": []
   },
   "outputs": [
    {
     "name": "stdout",
     "output_type": "stream",
     "text": [
      "{\n",
      "    \"data\": {\n",
      "        \"1027\": {\n",
      "            \"circulating_supply\": 120523829,\n",
      "            \"id\": 1027,\n",
      "            \"last_updated\": 1666386270,\n",
      "            \"max_supply\": 120523829,\n",
      "            \"name\": \"Ethereum\",\n",
      "            \"quotes\": {\n",
      "                \"USD\": {\n",
      "                    \"market_cap\": 157142103456,\n",
      "                    \"percent_change_1h\": -0.255568800544221,\n",
      "                    \"percent_change_24h\": 1.51265261681753,\n",
      "                    \"percent_change_7d\": 1.05585619348074,\n",
      "                    \"percentage_change_1h\": -0.255568800544221,\n",
      "                    \"percentage_change_24h\": 1.51265261681753,\n",
      "                    \"percentage_change_7d\": 1.05585619348074,\n",
      "                    \"price\": 1301.77,\n",
      "                    \"volume_24h\": 8999518884\n",
      "                }\n",
      "            },\n",
      "            \"rank\": 2,\n",
      "            \"symbol\": \"ETH\",\n",
      "            \"total_supply\": 120523829,\n",
      "            \"website_slug\": \"ethereum\"\n",
      "        }\n",
      "    },\n",
      "    \"metadata\": {\n",
      "        \"error\": null,\n",
      "        \"num_cryptocurrencies\": 3116,\n",
      "        \"timestamp\": 1666386270\n",
      "    }\n",
      "}\n"
     ]
    }
   ],
   "source": [
    "# Using the Python requests library, make an API call to access the current price ETH\n",
    "eth_response = requests.get(eth_url).json()\n",
    "\n",
    "# Use the json.dumps function to review the response data from the API call\n",
    "# Use the indent and sort_keys parameters to make the response object readable\n",
    "print(json.dumps(eth_response, indent=4, sort_keys=True))\n"
   ]
  },
  {
   "cell_type": "markdown",
   "metadata": {},
   "source": [
    "#### Step 3: Navigate the JSON response object to access the current price of each coin, and store each in a variable."
   ]
  },
  {
   "cell_type": "code",
   "execution_count": 27,
   "metadata": {},
   "outputs": [
    {
     "data": {
      "text/plain": [
       "19166.01"
      ]
     },
     "execution_count": 27,
     "metadata": {},
     "output_type": "execute_result"
    }
   ],
   "source": [
    "# Navigate the BTC response object to access the current price of BTC\n",
    "btc_price = btc_response[\"data\"][\"1\"][\"quotes\"][\"USD\"][\"price\"]\n",
    "\n",
    "# Print the current price of BTC\n",
    "btc_price\n"
   ]
  },
  {
   "cell_type": "code",
   "execution_count": 28,
   "metadata": {},
   "outputs": [
    {
     "data": {
      "text/plain": [
       "1301.77"
      ]
     },
     "execution_count": 28,
     "metadata": {},
     "output_type": "execute_result"
    }
   ],
   "source": [
    "# Navigate the BTC response object to access the current price of ETH\n",
    "eth_price = eth_response[\"data\"][\"1027\"][\"quotes\"][\"USD\"][\"price\"]\n",
    "\n",
    "# Print the current price of ETH\n",
    "eth_price\n"
   ]
  },
  {
   "cell_type": "markdown",
   "metadata": {},
   "source": [
    "### Step 4: Calculate the value, in US dollars, of the current amount of each cryptocurrency and of the entire cryptocurrency wallet."
   ]
  },
  {
   "cell_type": "code",
   "execution_count": 29,
   "metadata": {},
   "outputs": [
    {
     "data": {
      "text/plain": [
       "22999.211999999996"
      ]
     },
     "execution_count": 29,
     "metadata": {},
     "output_type": "execute_result"
    }
   ],
   "source": [
    "# Compute the current value of the BTC holding \n",
    "btc_value = btc_price * btc_coins\n",
    "\n",
    "# Print current value of your holding in BTC\n",
    "btc_value\n"
   ]
  },
  {
   "cell_type": "code",
   "execution_count": 30,
   "metadata": {},
   "outputs": [
    {
     "data": {
      "text/plain": [
       "6899.380999999999"
      ]
     },
     "execution_count": 30,
     "metadata": {},
     "output_type": "execute_result"
    }
   ],
   "source": [
    "# Compute the current value of the ETH holding \n",
    "eth_value = eth_price * eth_coins\n",
    "\n",
    "# Print current value of your holding in ETH\n",
    "eth_value\n"
   ]
  },
  {
   "cell_type": "code",
   "execution_count": 31,
   "metadata": {},
   "outputs": [
    {
     "data": {
      "text/plain": [
       "29898.592999999993"
      ]
     },
     "execution_count": 31,
     "metadata": {},
     "output_type": "execute_result"
    }
   ],
   "source": [
    "# Compute the total value of the cryptocurrency wallet\n",
    "# Add the value of the BTC holding to the value of the ETH holding\n",
    "total_crypto_wallet = btc_value + eth_value\n",
    "\n",
    "# Print current cryptocurrency wallet balance\n",
    "total_crypto_wallet\n"
   ]
  },
  {
   "cell_type": "markdown",
   "metadata": {},
   "source": [
    "### Evaluate the Stock and Bond Holdings by Using the Alpaca SDK\n",
    "\n",
    "In this section, you’ll determine the current value of a member’s stock and bond holdings. You’ll make an API call to Alpaca via the Alpaca SDK to get the current closing prices of the SPDR S&P 500 ETF Trust (ticker: SPY) and of the iShares Core US Aggregate Bond ETF (ticker: AGG). For the prototype, assume that the member holds 110 shares of SPY, which represents the stock portion of their portfolio, and 200 shares of AGG, which represents the bond portion. To do all this, complete the following steps:\n",
    "\n",
    "1. In the `Starter_Code` folder, create an environment file (`.env`) to store the values of your Alpaca API key and Alpaca secret key.\n",
    "\n",
    "2. Set the variables for the Alpaca API and secret keys. Using the Alpaca SDK, create the Alpaca `tradeapi.REST` object. In this object, include the parameters for the Alpaca API key, the secret key, and the version number.\n",
    "\n",
    "3. Set the following parameters for the Alpaca API call:\n",
    "\n",
    "    - `tickers`: Use the tickers for the member’s stock and bond holdings.\n",
    "\n",
    "    - `timeframe`: Use a time frame of one day.\n",
    "\n",
    "    - `start_date` and `end_date`: Use the same date for these parameters, and format them with the date of the previous weekday (or `2020-08-07`). This is because you want the one closing price for the most-recent trading day.\n",
    "\n",
    "4. Get the current closing prices for `SPY` and `AGG` by using the Alpaca `get_bars` function. Format the response as a Pandas DataFrame by including the `df` property at the end of the `get_bars` function.\n",
    "\n",
    "5. Navigating the Alpaca response DataFrame, select the `SPY` and `AGG` closing prices, and store them as variables.\n",
    "\n",
    "6. Calculate the value, in US dollars, of the current amount of shares in each of the stock and bond portions of the portfolio, and print the results.\n"
   ]
  },
  {
   "cell_type": "markdown",
   "metadata": {},
   "source": [
    "#### Review the total number of shares held in both (SPY) and (AGG)."
   ]
  },
  {
   "cell_type": "code",
   "execution_count": 32,
   "metadata": {},
   "outputs": [],
   "source": [
    "# Current amount of shares held in both the stock (SPY) and bond (AGG) portion of the portfolio.\n",
    "spy_shares = 110\n",
    "agg_shares = 200\n"
   ]
  },
  {
   "cell_type": "markdown",
   "metadata": {},
   "source": [
    "#### Step 1: In the `Starter_Code` folder, create an environment file (`.env`) to store the values of your Alpaca API key and Alpaca secret key."
   ]
  },
  {
   "cell_type": "markdown",
   "metadata": {},
   "source": [
    "#### Step 2: Set the variables for the Alpaca API and secret keys. Using the Alpaca SDK, create the Alpaca `tradeapi.REST` object. In this object, include the parameters for the Alpaca API key, the secret key, and the version number."
   ]
  },
  {
   "cell_type": "code",
   "execution_count": 37,
   "metadata": {},
   "outputs": [
    {
     "data": {
      "text/plain": [
       "str"
      ]
     },
     "metadata": {},
     "output_type": "display_data"
    },
    {
     "data": {
      "text/plain": [
       "str"
      ]
     },
     "metadata": {},
     "output_type": "display_data"
    }
   ],
   "source": [
    "# Set the variables for the Alpaca API and secret keys\n",
    "alpaca_api_key = os.getenv(\"ALPACA_API_KEY\")\n",
    "alpaca_secret_key = os.getenv(\"ALPACA_SECRET_KEY\")\n",
    "display(type(alpaca_api_key))\n",
    "display(type(alpaca_secret_key))\n",
    "\n",
    "# Create the Alpaca tradeapi.REST object\n",
    "alpaca = tradeapi.REST(alpaca_api_key, alpaca_secret_key, api_version=\"v2\")\n"
   ]
  },
  {
   "cell_type": "markdown",
   "metadata": {},
   "source": [
    "#### Step 3: Set the following parameters for the Alpaca API call:\n",
    "\n",
    "- `tickers`: Use the tickers for the member’s stock and bond holdings.\n",
    "\n",
    "- `timeframe`: Use a time frame of one day.\n",
    "\n",
    "- `start_date` and `end_date`: Use the same date for these parameters, and format them with the date of the previous weekday (or `2020-08-07`). This is because you want the one closing price for the most-recent trading day.\n"
   ]
  },
  {
   "cell_type": "code",
   "execution_count": 38,
   "metadata": {},
   "outputs": [],
   "source": [
    "# Set the tickers for both the bond and stock portion of the portfolio\n",
    "tickers = [\"SPY\", \"AGG\"]\n",
    "\n",
    "# Set timeframe to 1Day\n",
    "timeframe = \"1Day\"\n",
    "\n",
    "# Format current date as ISO format\n",
    "# Set both the start and end date at the date of your prior weekday \n",
    "# This will give you the closing price of the previous trading day\n",
    "# Alternatively you can use a start and end date of 2020-08-07\n",
    "start_date = pd.Timestamp(\"2022-10-19\", tz=\"America/New_York\").isoformat()\n",
    "end_date = pd.Timestamp(\"2022-10-19\", tz=\"America/New_York\").isoformat()\n"
   ]
  },
  {
   "cell_type": "markdown",
   "metadata": {},
   "source": [
    "#### Step 4: Get the current closing prices for `SPY` and `AGG` by using the Alpaca `get_bars` function. Format the response as a Pandas DataFrame by including the `df` property at the end of the `get_bars` function."
   ]
  },
  {
   "cell_type": "code",
   "execution_count": 39,
   "metadata": {},
   "outputs": [
    {
     "data": {
      "text/html": [
       "<div>\n",
       "<style scoped>\n",
       "    .dataframe tbody tr th:only-of-type {\n",
       "        vertical-align: middle;\n",
       "    }\n",
       "\n",
       "    .dataframe tbody tr th {\n",
       "        vertical-align: top;\n",
       "    }\n",
       "\n",
       "    .dataframe thead th {\n",
       "        text-align: right;\n",
       "    }\n",
       "</style>\n",
       "<table border=\"1\" class=\"dataframe\">\n",
       "  <thead>\n",
       "    <tr style=\"text-align: right;\">\n",
       "      <th></th>\n",
       "      <th>open</th>\n",
       "      <th>high</th>\n",
       "      <th>low</th>\n",
       "      <th>close</th>\n",
       "      <th>volume</th>\n",
       "      <th>trade_count</th>\n",
       "      <th>vwap</th>\n",
       "      <th>symbol</th>\n",
       "    </tr>\n",
       "    <tr>\n",
       "      <th>timestamp</th>\n",
       "      <th></th>\n",
       "      <th></th>\n",
       "      <th></th>\n",
       "      <th></th>\n",
       "      <th></th>\n",
       "      <th></th>\n",
       "      <th></th>\n",
       "      <th></th>\n",
       "    </tr>\n",
       "  </thead>\n",
       "  <tbody>\n",
       "    <tr>\n",
       "      <th>2022-10-19 04:00:00+00:00</th>\n",
       "      <td>94.41</td>\n",
       "      <td>94.5584</td>\n",
       "      <td>94.1528</td>\n",
       "      <td>94.2</td>\n",
       "      <td>6295299</td>\n",
       "      <td>18782</td>\n",
       "      <td>94.314399</td>\n",
       "      <td>AGG</td>\n",
       "    </tr>\n",
       "    <tr>\n",
       "      <th>2022-10-19 04:00:00+00:00</th>\n",
       "      <td>368.98</td>\n",
       "      <td>371.8500</td>\n",
       "      <td>365.5500</td>\n",
       "      <td>368.5</td>\n",
       "      <td>79481512</td>\n",
       "      <td>531675</td>\n",
       "      <td>368.665769</td>\n",
       "      <td>SPY</td>\n",
       "    </tr>\n",
       "  </tbody>\n",
       "</table>\n",
       "</div>"
      ],
      "text/plain": [
       "                             open      high       low  close    volume  \\\n",
       "timestamp                                                                \n",
       "2022-10-19 04:00:00+00:00   94.41   94.5584   94.1528   94.2   6295299   \n",
       "2022-10-19 04:00:00+00:00  368.98  371.8500  365.5500  368.5  79481512   \n",
       "\n",
       "                           trade_count        vwap symbol  \n",
       "timestamp                                                  \n",
       "2022-10-19 04:00:00+00:00        18782   94.314399    AGG  \n",
       "2022-10-19 04:00:00+00:00       531675  368.665769    SPY  "
      ]
     },
     "execution_count": 39,
     "metadata": {},
     "output_type": "execute_result"
    }
   ],
   "source": [
    "# Use the Alpaca get_bars function to get current closing prices the portfolio\n",
    "# Be sure to set the `df` property after the function to format the response object as a DataFrame\n",
    "response_df = alpaca.get_bars(\n",
    "    tickers, \n",
    "    timeframe, \n",
    "    start=start_date, \n",
    "    end=end_date\n",
    ").df\n",
    "\n",
    "response_df"
   ]
  },
  {
   "cell_type": "code",
   "execution_count": 40,
   "metadata": {},
   "outputs": [
    {
     "data": {
      "text/html": [
       "<div>\n",
       "<style scoped>\n",
       "    .dataframe tbody tr th:only-of-type {\n",
       "        vertical-align: middle;\n",
       "    }\n",
       "\n",
       "    .dataframe tbody tr th {\n",
       "        vertical-align: top;\n",
       "    }\n",
       "\n",
       "    .dataframe thead tr th {\n",
       "        text-align: left;\n",
       "    }\n",
       "\n",
       "    .dataframe thead tr:last-of-type th {\n",
       "        text-align: right;\n",
       "    }\n",
       "</style>\n",
       "<table border=\"1\" class=\"dataframe\">\n",
       "  <thead>\n",
       "    <tr>\n",
       "      <th></th>\n",
       "      <th colspan=\"7\" halign=\"left\">SPY</th>\n",
       "      <th colspan=\"7\" halign=\"left\">AGG</th>\n",
       "    </tr>\n",
       "    <tr>\n",
       "      <th></th>\n",
       "      <th>open</th>\n",
       "      <th>high</th>\n",
       "      <th>low</th>\n",
       "      <th>close</th>\n",
       "      <th>volume</th>\n",
       "      <th>trade_count</th>\n",
       "      <th>vwap</th>\n",
       "      <th>open</th>\n",
       "      <th>high</th>\n",
       "      <th>low</th>\n",
       "      <th>close</th>\n",
       "      <th>volume</th>\n",
       "      <th>trade_count</th>\n",
       "      <th>vwap</th>\n",
       "    </tr>\n",
       "    <tr>\n",
       "      <th>timestamp</th>\n",
       "      <th></th>\n",
       "      <th></th>\n",
       "      <th></th>\n",
       "      <th></th>\n",
       "      <th></th>\n",
       "      <th></th>\n",
       "      <th></th>\n",
       "      <th></th>\n",
       "      <th></th>\n",
       "      <th></th>\n",
       "      <th></th>\n",
       "      <th></th>\n",
       "      <th></th>\n",
       "      <th></th>\n",
       "    </tr>\n",
       "  </thead>\n",
       "  <tbody>\n",
       "    <tr>\n",
       "      <th>2022-10-19 04:00:00+00:00</th>\n",
       "      <td>368.98</td>\n",
       "      <td>371.85</td>\n",
       "      <td>365.55</td>\n",
       "      <td>368.5</td>\n",
       "      <td>79481512</td>\n",
       "      <td>531675</td>\n",
       "      <td>368.665769</td>\n",
       "      <td>94.41</td>\n",
       "      <td>94.5584</td>\n",
       "      <td>94.1528</td>\n",
       "      <td>94.2</td>\n",
       "      <td>6295299</td>\n",
       "      <td>18782</td>\n",
       "      <td>94.314399</td>\n",
       "    </tr>\n",
       "  </tbody>\n",
       "</table>\n",
       "</div>"
      ],
      "text/plain": [
       "                              SPY                                   \\\n",
       "                             open    high     low  close    volume   \n",
       "timestamp                                                            \n",
       "2022-10-19 04:00:00+00:00  368.98  371.85  365.55  368.5  79481512   \n",
       "\n",
       "                                                     AGG                    \\\n",
       "                          trade_count        vwap   open     high      low   \n",
       "timestamp                                                                    \n",
       "2022-10-19 04:00:00+00:00      531675  368.665769  94.41  94.5584  94.1528   \n",
       "\n",
       "                                                                 \n",
       "                          close   volume trade_count       vwap  \n",
       "timestamp                                                        \n",
       "2022-10-19 04:00:00+00:00  94.2  6295299       18782  94.314399  "
      ]
     },
     "execution_count": 40,
     "metadata": {},
     "output_type": "execute_result"
    }
   ],
   "source": [
    "# Reorganize the DataFrame\n",
    "# Separate ticker data\n",
    "SPY = response_df[response_df['symbol']==\"SPY\"].drop('symbol', axis=1)\n",
    "AGG = response_df[response_df['symbol']==\"AGG\"].drop('symbol', axis=1)\n",
    "\n",
    "# Concatenate the ticker DataFrames\n",
    "portfolio_df = pd.concat([SPY,AGG], axis=1, keys=[\"SPY\", \"AGG\"])\n",
    "\n",
    "# Review the first 5 rows of the Alpaca DataFrame\n",
    "portfolio_df\n"
   ]
  },
  {
   "cell_type": "markdown",
   "metadata": {},
   "source": [
    "#### Step 5: Navigating the Alpaca response DataFrame, select the `SPY` and `AGG` closing prices, and store them as variables."
   ]
  },
  {
   "cell_type": "code",
   "execution_count": 78,
   "metadata": {},
   "outputs": [
    {
     "data": {
      "text/plain": [
       "94.2"
      ]
     },
     "execution_count": 78,
     "metadata": {},
     "output_type": "execute_result"
    }
   ],
   "source": [
    "# Access the closing price for AGG from the Alpaca DataFrame\n",
    "# Converting the value to a floating point number\n",
    "agg_close_price = portfolio_df.loc[start_date, (\"AGG\", \"close\")].astype(float)\n",
    "\n",
    "# Print the AGG closing price\n",
    "agg_close_price"
   ]
  },
  {
   "cell_type": "code",
   "execution_count": 80,
   "metadata": {},
   "outputs": [
    {
     "data": {
      "text/plain": [
       "368.5"
      ]
     },
     "execution_count": 80,
     "metadata": {},
     "output_type": "execute_result"
    }
   ],
   "source": [
    "# Access the closing price for SPY from the Alpaca DataFrame\n",
    "# Converting the value to a floating point number\n",
    "spy_close_price = portfolio_df.loc[start_date, (\"SPY\", \"close\")].astype(float)\n",
    "\n",
    "\n",
    "# Print the SPY closing price\n",
    "spy_close_price\n"
   ]
  },
  {
   "cell_type": "markdown",
   "metadata": {},
   "source": [
    "#### Step 6: Calculate the value, in US dollars, of the current amount of shares in each of the stock and bond portions of the portfolio, and print the results."
   ]
  },
  {
   "cell_type": "code",
   "execution_count": 84,
   "metadata": {},
   "outputs": [
    {
     "name": "stdout",
     "output_type": "stream",
     "text": [
      "The current value of the bond portfolio is $ 18840.0\n"
     ]
    }
   ],
   "source": [
    "# Calculate the current value of the bond portion of the portfolio\n",
    "agg_value = agg_close_price * agg_shares\n",
    "\n",
    "# Print the current value of the bond portfolio\n",
    "print(\"The current value of the bond portfolio is $\",agg_value)\n"
   ]
  },
  {
   "cell_type": "code",
   "execution_count": 85,
   "metadata": {},
   "outputs": [
    {
     "name": "stdout",
     "output_type": "stream",
     "text": [
      "The current value of the stock portfolio is $ 40535.0\n"
     ]
    }
   ],
   "source": [
    "# Calculate the current value of the stock portion of the portfolio\n",
    "spy_value = spy_close_price * spy_shares\n",
    "\n",
    "# Print the current value of the stock portfolio\n",
    "print(\"The current value of the stock portfolio is $\",spy_value)\n"
   ]
  },
  {
   "cell_type": "code",
   "execution_count": 86,
   "metadata": {},
   "outputs": [
    {
     "name": "stdout",
     "output_type": "stream",
     "text": [
      "The current value of the stock and bond portion portfolio is $ 59375.0\n"
     ]
    }
   ],
   "source": [
    "# Calculate the total value of the stock and bond portion of the portfolio\n",
    "total_stocks_bonds = spy_value + agg_value\n",
    "\n",
    "# Print the current balance of the stock and bond portion of the portfolio\n",
    "print(\"The current value of the stock and bond portion portfolio is $\",total_stocks_bonds)\n"
   ]
  },
  {
   "cell_type": "code",
   "execution_count": 88,
   "metadata": {},
   "outputs": [
    {
     "name": "stdout",
     "output_type": "stream",
     "text": [
      "The current cryptocurrency wallet balance is $ 29898.59\n"
     ]
    }
   ],
   "source": [
    "# Calculate the total value of the member's entire savings portfolio\n",
    "# Add the value of the cryptocurrency walled to the value of the total stocks and bonds\n",
    "total_portfolio = total_crypto_wallet + total_stocks_bonds\n",
    "\n",
    "# Print current cryptocurrency wallet balance\n",
    "print(f\"The current cryptocurrency wallet balance is ${total_crypto_wallet: .2f}\")\n"
   ]
  },
  {
   "cell_type": "markdown",
   "metadata": {
    "tags": []
   },
   "source": [
    "### Evaluate the Emergency Fund\n",
    "\n",
    "In this section, you’ll use the valuations for the cryptocurrency wallet and for the stock and bond portions of the portfolio to determine if the credit union member has enough savings to build an emergency fund into their financial plan. To do this, complete the following steps:\n",
    "\n",
    "1. Create a Python list named `savings_data` that has two elements. The first element contains the total value of the cryptocurrency wallet. The second element contains the total value of the stock and bond portions of the portfolio.\n",
    "\n",
    "2. Use the `savings_data` list to create a Pandas DataFrame named `savings_df`, and then display this DataFrame. The function to create the DataFrame should take the following three parameters:\n",
    "\n",
    "    - `savings_data`: Use the list that you just created.\n",
    "\n",
    "    - `columns`: Set this parameter equal to a Python list with a single value called `amount`.\n",
    "\n",
    "    - `index`: Set this parameter equal to a Python list with the values of `crypto` and `stock/bond`.\n",
    "\n",
    "3. Use the `savings_df` DataFrame to plot a pie chart that visualizes the composition of the member’s portfolio. The y-axis of the pie chart uses `amount`. Be sure to add a title.\n",
    "\n",
    "4. Using Python, determine if the current portfolio has enough to create an emergency fund as part of the member’s financial plan. Ideally, an emergency fund should equal to three times the member’s monthly income. To do this, implement the following steps:\n",
    "\n",
    "    1. Create a variable named `emergency_fund_value`, and set it equal to three times the value of the member’s `monthly_income` of $12000. (You set this earlier in Part 1).\n",
    "\n",
    "    2. Create a series of three if statements to determine if the member’s total portfolio is large enough to fund the emergency portfolio:\n",
    "\n",
    "        1. If the total portfolio value is greater than the emergency fund value, display a message congratulating the member for having enough money in this fund.\n",
    "\n",
    "        2. Else if the total portfolio value is equal to the emergency fund value, display a message congratulating the member on reaching this important financial goal.\n",
    "\n",
    "        3. Else the total portfolio is less than the emergency fund value, so display a message showing how many dollars away the member is from reaching the goal. (Subtract the total portfolio value from the emergency fund value.)\n"
   ]
  },
  {
   "cell_type": "markdown",
   "metadata": {},
   "source": [
    "#### Step 1: Create a Python list named `savings_data` that has two elements. The first element contains the total value of the cryptocurrency wallet. The second element contains the total value of the stock and bond portions of the portfolio."
   ]
  },
  {
   "cell_type": "code",
   "execution_count": 89,
   "metadata": {},
   "outputs": [
    {
     "data": {
      "text/plain": [
       "[29898.592999999993, 59375.0]"
      ]
     },
     "execution_count": 89,
     "metadata": {},
     "output_type": "execute_result"
    }
   ],
   "source": [
    "# Consolidate financial assets data into a Python list\n",
    "savings_data = [total_crypto_wallet, total_stocks_bonds]\n",
    "\n",
    "# Review the Python list savings_data\n",
    "savings_data\n",
    "    "
   ]
  },
  {
   "cell_type": "markdown",
   "metadata": {},
   "source": [
    "#### Step 2: Use the `savings_data` list to create a Pandas DataFrame named `savings_df`, and then display this DataFrame. The function to create the DataFrame should take the following three parameters:\n",
    "\n",
    "- `savings_data`: Use the list that you just created.\n",
    "\n",
    "- `columns`: Set this parameter equal to a Python list with a single value called `amount`.\n",
    "\n",
    "- `index`: Set this parameter equal to a Python list with the values of `crypto` and `stock/bond`.\n"
   ]
  },
  {
   "cell_type": "code",
   "execution_count": 93,
   "metadata": {},
   "outputs": [
    {
     "data": {
      "text/html": [
       "<div>\n",
       "<style scoped>\n",
       "    .dataframe tbody tr th:only-of-type {\n",
       "        vertical-align: middle;\n",
       "    }\n",
       "\n",
       "    .dataframe tbody tr th {\n",
       "        vertical-align: top;\n",
       "    }\n",
       "\n",
       "    .dataframe thead th {\n",
       "        text-align: right;\n",
       "    }\n",
       "</style>\n",
       "<table border=\"1\" class=\"dataframe\">\n",
       "  <thead>\n",
       "    <tr style=\"text-align: right;\">\n",
       "      <th></th>\n",
       "      <th>amount</th>\n",
       "    </tr>\n",
       "  </thead>\n",
       "  <tbody>\n",
       "    <tr>\n",
       "      <th>crypto</th>\n",
       "      <td>29898.593</td>\n",
       "    </tr>\n",
       "    <tr>\n",
       "      <th>stock/bond</th>\n",
       "      <td>59375.000</td>\n",
       "    </tr>\n",
       "  </tbody>\n",
       "</table>\n",
       "</div>"
      ],
      "text/plain": [
       "               amount\n",
       "crypto      29898.593\n",
       "stock/bond  59375.000"
      ]
     },
     "execution_count": 93,
     "metadata": {},
     "output_type": "execute_result"
    }
   ],
   "source": [
    "# Create a Pandas DataFrame called savings_df \n",
    "savings_df = pd.DataFrame(savings_data, columns=[\"amount\"], index=[\"crypto\", \"stock/bond\"])\n",
    "\n",
    "# Display the savings_df DataFrame\n",
    "savings_df\n"
   ]
  },
  {
   "cell_type": "markdown",
   "metadata": {},
   "source": [
    "#### Step 3: Use the `savings_df` DataFrame to plot a pie chart that visualizes the composition of the member’s portfolio. The y-axis of the pie chart uses `amount`. Be sure to add a title."
   ]
  },
  {
   "cell_type": "code",
   "execution_count": 94,
   "metadata": {},
   "outputs": [
    {
     "data": {
      "text/plain": [
       "<AxesSubplot:title={'center':'Savings profile of Crypotwallet v. Stocks/Bonds Portfolio'}, ylabel='amount'>"
      ]
     },
     "execution_count": 94,
     "metadata": {},
     "output_type": "execute_result"
    },
    {
     "data": {
      "image/png": "[encoded data removed]",
      "text/plain": [
       "<Figure size 360x504 with 1 Axes>"
      ]
     },
     "metadata": {},
     "output_type": "display_data"
    }
   ],
   "source": [
    "# Plot the total value of the member's portfolio (crypto and stock/bond) in a pie chart\n",
    "savings_df.plot.pie(y=\"amount\", figsize=(5,7), title=\"Savings profile of Crypotwallet v. Stocks/Bonds Portfolio\")\n"
   ]
  },
  {
   "cell_type": "markdown",
   "metadata": {},
   "source": [
    "#### Step 4: Using Python, determine if the current portfolio has enough to create an emergency fund as part of the member’s financial plan. Ideally, an emergency fund should equal to three times the member’s monthly income. To do this, implement the following steps:\n",
    "\n",
    "Step 1. Create a variable named `emergency_fund_value`, and set it equal to three times the value of the member’s `monthly_income` of 12000. (You set this earlier in Part 1).\n",
    "\n",
    "Step 2. Create a series of three if statements to determine if the member’s total portfolio is large enough to fund the emergency portfolio:\n",
    "\n",
    "* If the total portfolio value is greater than the emergency fund value, display a message congratulating the member for having enough money in this fund.\n",
    "\n",
    "* Else if the total portfolio value is equal to the emergency fund value, display a message congratulating the member on reaching this important financial goal.\n",
    "\n",
    "* Else the total portfolio is less than the emergency fund value, so display a message showing how many dollars away the member is from reaching the goal. (Subtract the total portfolio value from the emergency fund value.)\n"
   ]
  },
  {
   "cell_type": "markdown",
   "metadata": {},
   "source": [
    "##### Step 4-1: Create a variable named `emergency_fund_value`, and set it equal to three times the value of the member’s `monthly_income` of 12000. (You set this earlier in Part 1)."
   ]
  },
  {
   "cell_type": "code",
   "execution_count": 95,
   "metadata": {},
   "outputs": [],
   "source": [
    "# Create a variable named emergency_fund_value\n",
    "emergency_fund_value = 3 * monthly_income\n"
   ]
  },
  {
   "cell_type": "markdown",
   "metadata": {},
   "source": [
    "##### Step 4-2: Create a series of three if statements to determine if the member’s total portfolio is large enough to fund the emergency portfolio:\n",
    "\n",
    "* If the total portfolio value is greater than the emergency fund value, display a message congratulating the member for having enough money in this fund.\n",
    "\n",
    "* Else if the total portfolio value is equal to the emergency fund value, display a message congratulating the member on reaching this important financial goal.\n",
    "\n",
    "* Else the total portfolio is less than the emergency fund value, so display a message showing how many dollars away the member is from reaching the goal. (Subtract the total portfolio value from the emergency fund value.)"
   ]
  },
  {
   "cell_type": "code",
   "execution_count": 97,
   "metadata": {},
   "outputs": [
    {
     "name": "stdout",
     "output_type": "stream",
     "text": [
      "Congratulations! You have enough money in your portfolio for an emergency fund.\n"
     ]
    }
   ],
   "source": [
    "# Evaluate the possibility of creating an emergency fund with 3 conditions:\n",
    "if total_portfolio > emergency_fund_value:\n",
    "    print(\"Congratulations! You have enough money in your portfolio for an emergency fund.\")\n",
    "elif total_portfolio == emergency_fund_value:\n",
    "    print(\"Congratultations on meeting this important financial goal.\")\n",
    "else:\n",
    "    print(f\"You are ${total_portfolio - emergency_fund_value} away from reaching your goal of having enough money for an emergency fund\")\n"
   ]
  },
  {
   "cell_type": "markdown",
   "metadata": {},
   "source": [
    "## Part 2: Create a Financial Planner for Retirement"
   ]
  },
  {
   "cell_type": "markdown",
   "metadata": {},
   "source": [
    "### Create the Monte Carlo Simulation\n",
    "\n",
    "In this section, you’ll use the MCForecastTools library to create a Monte Carlo simulation for the member’s savings portfolio. To do this, complete the following steps:\n",
    "\n",
    "1. Make an API call via the Alpaca SDK to get 3 years of historical closing prices for a traditional 60/40 portfolio split: 60% stocks (SPY) and 40% bonds (AGG).\n",
    "\n",
    "2. Run a Monte Carlo simulation of 500 samples and 30 years for the 60/40 portfolio, and then plot the results.The following image shows the overlay line plot resulting from a simulation with these characteristics. However, because a random number generator is used to run each live Monte Carlo simulation, your image will differ slightly from this exact image:\n",
    "\n",
    "![A screenshot depicts the resulting plot.](Images/5-4-monte-carlo-line-plot.png)\n",
    "\n",
    "3. Plot the probability distribution of the Monte Carlo simulation. Plot the probability distribution of the Monte Carlo simulation. The following image shows the histogram plot resulting from a simulation with these characteristics. However, because a random number generator is used to run each live Monte Carlo simulation, your image will differ slightly from this exact image:\n",
    "\n",
    "![A screenshot depicts the histogram plot.](Images/5-4-monte-carlo-histogram.png)\n",
    "\n",
    "4. Generate the summary statistics for the Monte Carlo simulation.\n",
    "\n"
   ]
  },
  {
   "cell_type": "markdown",
   "metadata": {},
   "source": [
    "#### Step 1: Make an API call via the Alpaca SDK to get 3 years of historical closing prices for a traditional 60/40 portfolio split: 60% stocks (SPY) and 40% bonds (AGG)."
   ]
  },
  {
   "cell_type": "code",
   "execution_count": 98,
   "metadata": {},
   "outputs": [],
   "source": [
    "# Set start and end dates of 3 years back from your current date\n",
    "# Alternatively, you can use an end date of 2020-08-07 and work 3 years back from that date \n",
    "start_date = pd.Timestamp(\"2019-10-19\", tz=\"America/New_York\").isoformat()\n",
    "end_date = pd.Timestamp(\"2022-10-19\", tz=\"America/New_York\").isoformat()"
   ]
  },
  {
   "cell_type": "code",
   "execution_count": 101,
   "metadata": {},
   "outputs": [
    {
     "data": {
      "text/html": [
       "<div>\n",
       "<style scoped>\n",
       "    .dataframe tbody tr th:only-of-type {\n",
       "        vertical-align: middle;\n",
       "    }\n",
       "\n",
       "    .dataframe tbody tr th {\n",
       "        vertical-align: top;\n",
       "    }\n",
       "\n",
       "    .dataframe thead tr th {\n",
       "        text-align: left;\n",
       "    }\n",
       "\n",
       "    .dataframe thead tr:last-of-type th {\n",
       "        text-align: right;\n",
       "    }\n",
       "</style>\n",
       "<table border=\"1\" class=\"dataframe\">\n",
       "  <thead>\n",
       "    <tr>\n",
       "      <th></th>\n",
       "      <th colspan=\"7\" halign=\"left\">SPY</th>\n",
       "      <th colspan=\"7\" halign=\"left\">AGG</th>\n",
       "    </tr>\n",
       "    <tr>\n",
       "      <th></th>\n",
       "      <th>open</th>\n",
       "      <th>high</th>\n",
       "      <th>low</th>\n",
       "      <th>close</th>\n",
       "      <th>volume</th>\n",
       "      <th>trade_count</th>\n",
       "      <th>vwap</th>\n",
       "      <th>open</th>\n",
       "      <th>high</th>\n",
       "      <th>low</th>\n",
       "      <th>close</th>\n",
       "      <th>volume</th>\n",
       "      <th>trade_count</th>\n",
       "      <th>vwap</th>\n",
       "    </tr>\n",
       "    <tr>\n",
       "      <th>timestamp</th>\n",
       "      <th></th>\n",
       "      <th></th>\n",
       "      <th></th>\n",
       "      <th></th>\n",
       "      <th></th>\n",
       "      <th></th>\n",
       "      <th></th>\n",
       "      <th></th>\n",
       "      <th></th>\n",
       "      <th></th>\n",
       "      <th></th>\n",
       "      <th></th>\n",
       "      <th></th>\n",
       "      <th></th>\n",
       "    </tr>\n",
       "  </thead>\n",
       "  <tbody>\n",
       "    <tr>\n",
       "      <th>2019-10-21 04:00:00+00:00</th>\n",
       "      <td>299.48</td>\n",
       "      <td>300.21</td>\n",
       "      <td>298.9350</td>\n",
       "      <td>299.99</td>\n",
       "      <td>39733263</td>\n",
       "      <td>193936</td>\n",
       "      <td>299.662986</td>\n",
       "      <td>112.62</td>\n",
       "      <td>112.7100</td>\n",
       "      <td>112.4900</td>\n",
       "      <td>112.49</td>\n",
       "      <td>4241641</td>\n",
       "      <td>12358</td>\n",
       "      <td>112.536605</td>\n",
       "    </tr>\n",
       "    <tr>\n",
       "      <th>2019-10-22 04:00:00+00:00</th>\n",
       "      <td>300.63</td>\n",
       "      <td>300.90</td>\n",
       "      <td>298.9100</td>\n",
       "      <td>299.01</td>\n",
       "      <td>49156505</td>\n",
       "      <td>227131</td>\n",
       "      <td>300.087292</td>\n",
       "      <td>112.72</td>\n",
       "      <td>112.7375</td>\n",
       "      <td>112.5100</td>\n",
       "      <td>112.66</td>\n",
       "      <td>2147528</td>\n",
       "      <td>10716</td>\n",
       "      <td>112.635037</td>\n",
       "    </tr>\n",
       "    <tr>\n",
       "      <th>2019-10-23 04:00:00+00:00</th>\n",
       "      <td>298.74</td>\n",
       "      <td>299.94</td>\n",
       "      <td>298.4950</td>\n",
       "      <td>299.88</td>\n",
       "      <td>35235859</td>\n",
       "      <td>191628</td>\n",
       "      <td>299.334407</td>\n",
       "      <td>112.82</td>\n",
       "      <td>112.8800</td>\n",
       "      <td>112.7300</td>\n",
       "      <td>112.75</td>\n",
       "      <td>1888027</td>\n",
       "      <td>7823</td>\n",
       "      <td>112.796194</td>\n",
       "    </tr>\n",
       "    <tr>\n",
       "      <th>2019-10-24 04:00:00+00:00</th>\n",
       "      <td>300.88</td>\n",
       "      <td>301.07</td>\n",
       "      <td>299.4601</td>\n",
       "      <td>300.37</td>\n",
       "      <td>35889568</td>\n",
       "      <td>211246</td>\n",
       "      <td>300.195329</td>\n",
       "      <td>112.84</td>\n",
       "      <td>112.9459</td>\n",
       "      <td>112.7500</td>\n",
       "      <td>112.78</td>\n",
       "      <td>1726018</td>\n",
       "      <td>7848</td>\n",
       "      <td>112.858594</td>\n",
       "    </tr>\n",
       "    <tr>\n",
       "      <th>2019-10-25 04:00:00+00:00</th>\n",
       "      <td>299.74</td>\n",
       "      <td>302.20</td>\n",
       "      <td>299.6806</td>\n",
       "      <td>301.60</td>\n",
       "      <td>45705877</td>\n",
       "      <td>215213</td>\n",
       "      <td>301.494776</td>\n",
       "      <td>112.84</td>\n",
       "      <td>112.8500</td>\n",
       "      <td>112.5229</td>\n",
       "      <td>112.62</td>\n",
       "      <td>2486700</td>\n",
       "      <td>9742</td>\n",
       "      <td>112.645555</td>\n",
       "    </tr>\n",
       "  </tbody>\n",
       "</table>\n",
       "</div>"
      ],
      "text/plain": [
       "                              SPY                                      \\\n",
       "                             open    high       low   close    volume   \n",
       "timestamp                                                               \n",
       "2019-10-21 04:00:00+00:00  299.48  300.21  298.9350  299.99  39733263   \n",
       "2019-10-22 04:00:00+00:00  300.63  300.90  298.9100  299.01  49156505   \n",
       "2019-10-23 04:00:00+00:00  298.74  299.94  298.4950  299.88  35235859   \n",
       "2019-10-24 04:00:00+00:00  300.88  301.07  299.4601  300.37  35889568   \n",
       "2019-10-25 04:00:00+00:00  299.74  302.20  299.6806  301.60  45705877   \n",
       "\n",
       "                                                      AGG                      \\\n",
       "                          trade_count        vwap    open      high       low   \n",
       "timestamp                                                                       \n",
       "2019-10-21 04:00:00+00:00      193936  299.662986  112.62  112.7100  112.4900   \n",
       "2019-10-22 04:00:00+00:00      227131  300.087292  112.72  112.7375  112.5100   \n",
       "2019-10-23 04:00:00+00:00      191628  299.334407  112.82  112.8800  112.7300   \n",
       "2019-10-24 04:00:00+00:00      211246  300.195329  112.84  112.9459  112.7500   \n",
       "2019-10-25 04:00:00+00:00      215213  301.494776  112.84  112.8500  112.5229   \n",
       "\n",
       "                                                                    \n",
       "                            close   volume trade_count        vwap  \n",
       "timestamp                                                           \n",
       "2019-10-21 04:00:00+00:00  112.49  4241641       12358  112.536605  \n",
       "2019-10-22 04:00:00+00:00  112.66  2147528       10716  112.635037  \n",
       "2019-10-23 04:00:00+00:00  112.75  1888027        7823  112.796194  \n",
       "2019-10-24 04:00:00+00:00  112.78  1726018        7848  112.858594  \n",
       "2019-10-25 04:00:00+00:00  112.62  2486700        9742  112.645555  "
      ]
     },
     "metadata": {},
     "output_type": "display_data"
    },
    {
     "data": {
      "text/html": [
       "<div>\n",
       "<style scoped>\n",
       "    .dataframe tbody tr th:only-of-type {\n",
       "        vertical-align: middle;\n",
       "    }\n",
       "\n",
       "    .dataframe tbody tr th {\n",
       "        vertical-align: top;\n",
       "    }\n",
       "\n",
       "    .dataframe thead tr th {\n",
       "        text-align: left;\n",
       "    }\n",
       "\n",
       "    .dataframe thead tr:last-of-type th {\n",
       "        text-align: right;\n",
       "    }\n",
       "</style>\n",
       "<table border=\"1\" class=\"dataframe\">\n",
       "  <thead>\n",
       "    <tr>\n",
       "      <th></th>\n",
       "      <th colspan=\"7\" halign=\"left\">SPY</th>\n",
       "      <th colspan=\"7\" halign=\"left\">AGG</th>\n",
       "    </tr>\n",
       "    <tr>\n",
       "      <th></th>\n",
       "      <th>open</th>\n",
       "      <th>high</th>\n",
       "      <th>low</th>\n",
       "      <th>close</th>\n",
       "      <th>volume</th>\n",
       "      <th>trade_count</th>\n",
       "      <th>vwap</th>\n",
       "      <th>open</th>\n",
       "      <th>high</th>\n",
       "      <th>low</th>\n",
       "      <th>close</th>\n",
       "      <th>volume</th>\n",
       "      <th>trade_count</th>\n",
       "      <th>vwap</th>\n",
       "    </tr>\n",
       "    <tr>\n",
       "      <th>timestamp</th>\n",
       "      <th></th>\n",
       "      <th></th>\n",
       "      <th></th>\n",
       "      <th></th>\n",
       "      <th></th>\n",
       "      <th></th>\n",
       "      <th></th>\n",
       "      <th></th>\n",
       "      <th></th>\n",
       "      <th></th>\n",
       "      <th></th>\n",
       "      <th></th>\n",
       "      <th></th>\n",
       "      <th></th>\n",
       "    </tr>\n",
       "  </thead>\n",
       "  <tbody>\n",
       "    <tr>\n",
       "      <th>2022-10-13 04:00:00+00:00</th>\n",
       "      <td>349.43</td>\n",
       "      <td>367.5100</td>\n",
       "      <td>348.1100</td>\n",
       "      <td>365.97</td>\n",
       "      <td>145171940</td>\n",
       "      <td>1098996</td>\n",
       "      <td>359.798331</td>\n",
       "      <td>94.23</td>\n",
       "      <td>95.4400</td>\n",
       "      <td>94.1800</td>\n",
       "      <td>95.18</td>\n",
       "      <td>6231878</td>\n",
       "      <td>23778</td>\n",
       "      <td>95.068272</td>\n",
       "    </tr>\n",
       "    <tr>\n",
       "      <th>2022-10-14 04:00:00+00:00</th>\n",
       "      <td>368.54</td>\n",
       "      <td>370.2600</td>\n",
       "      <td>356.9600</td>\n",
       "      <td>357.63</td>\n",
       "      <td>122920585</td>\n",
       "      <td>818595</td>\n",
       "      <td>361.365272</td>\n",
       "      <td>95.63</td>\n",
       "      <td>95.6300</td>\n",
       "      <td>94.6100</td>\n",
       "      <td>94.66</td>\n",
       "      <td>8567937</td>\n",
       "      <td>22665</td>\n",
       "      <td>94.776094</td>\n",
       "    </tr>\n",
       "    <tr>\n",
       "      <th>2022-10-17 04:00:00+00:00</th>\n",
       "      <td>363.99</td>\n",
       "      <td>367.9799</td>\n",
       "      <td>357.2808</td>\n",
       "      <td>366.82</td>\n",
       "      <td>92765345</td>\n",
       "      <td>609955</td>\n",
       "      <td>365.954505</td>\n",
       "      <td>95.28</td>\n",
       "      <td>95.4000</td>\n",
       "      <td>94.8300</td>\n",
       "      <td>94.86</td>\n",
       "      <td>5455448</td>\n",
       "      <td>20840</td>\n",
       "      <td>95.037152</td>\n",
       "    </tr>\n",
       "    <tr>\n",
       "      <th>2022-10-18 04:00:00+00:00</th>\n",
       "      <td>375.07</td>\n",
       "      <td>375.4500</td>\n",
       "      <td>367.5200</td>\n",
       "      <td>371.13</td>\n",
       "      <td>96898206</td>\n",
       "      <td>675916</td>\n",
       "      <td>371.126991</td>\n",
       "      <td>95.11</td>\n",
       "      <td>95.1800</td>\n",
       "      <td>94.6400</td>\n",
       "      <td>95.02</td>\n",
       "      <td>6108720</td>\n",
       "      <td>21495</td>\n",
       "      <td>94.955551</td>\n",
       "    </tr>\n",
       "    <tr>\n",
       "      <th>2022-10-19 04:00:00+00:00</th>\n",
       "      <td>368.98</td>\n",
       "      <td>371.8500</td>\n",
       "      <td>365.5500</td>\n",
       "      <td>368.50</td>\n",
       "      <td>79481512</td>\n",
       "      <td>531675</td>\n",
       "      <td>368.665769</td>\n",
       "      <td>94.41</td>\n",
       "      <td>94.5584</td>\n",
       "      <td>94.1528</td>\n",
       "      <td>94.20</td>\n",
       "      <td>6295299</td>\n",
       "      <td>18782</td>\n",
       "      <td>94.314399</td>\n",
       "    </tr>\n",
       "  </tbody>\n",
       "</table>\n",
       "</div>"
      ],
      "text/plain": [
       "                              SPY                                         \\\n",
       "                             open      high       low   close     volume   \n",
       "timestamp                                                                  \n",
       "2022-10-13 04:00:00+00:00  349.43  367.5100  348.1100  365.97  145171940   \n",
       "2022-10-14 04:00:00+00:00  368.54  370.2600  356.9600  357.63  122920585   \n",
       "2022-10-17 04:00:00+00:00  363.99  367.9799  357.2808  366.82   92765345   \n",
       "2022-10-18 04:00:00+00:00  375.07  375.4500  367.5200  371.13   96898206   \n",
       "2022-10-19 04:00:00+00:00  368.98  371.8500  365.5500  368.50   79481512   \n",
       "\n",
       "                                                     AGG                    \\\n",
       "                          trade_count        vwap   open     high      low   \n",
       "timestamp                                                                    \n",
       "2022-10-13 04:00:00+00:00     1098996  359.798331  94.23  95.4400  94.1800   \n",
       "2022-10-14 04:00:00+00:00      818595  361.365272  95.63  95.6300  94.6100   \n",
       "2022-10-17 04:00:00+00:00      609955  365.954505  95.28  95.4000  94.8300   \n",
       "2022-10-18 04:00:00+00:00      675916  371.126991  95.11  95.1800  94.6400   \n",
       "2022-10-19 04:00:00+00:00      531675  368.665769  94.41  94.5584  94.1528   \n",
       "\n",
       "                                                                  \n",
       "                           close   volume trade_count       vwap  \n",
       "timestamp                                                         \n",
       "2022-10-13 04:00:00+00:00  95.18  6231878       23778  95.068272  \n",
       "2022-10-14 04:00:00+00:00  94.66  8567937       22665  94.776094  \n",
       "2022-10-17 04:00:00+00:00  94.86  5455448       20840  95.037152  \n",
       "2022-10-18 04:00:00+00:00  95.02  6108720       21495  94.955551  \n",
       "2022-10-19 04:00:00+00:00  94.20  6295299       18782  94.314399  "
      ]
     },
     "execution_count": 101,
     "metadata": {},
     "output_type": "execute_result"
    }
   ],
   "source": [
    "# Use the Alpaca get_bars function to make the API call to get the 3 years worth of pricing data\n",
    "# The tickers and timeframe parameters should have been set in Part 1 of this activity \n",
    "# The start and end dates should be updated with the information set above\n",
    "# Remember to add the df property to the end of the call so the response is returned as a DataFrame\n",
    "prices_df = alpaca.get_bars(tickers, timeframe, start=start_date, end=end_date).df\n",
    "\n",
    "# Reorganize the DataFrame\n",
    "# Separate ticker data\n",
    "SPY = prices_df[prices_df[\"symbol\"]==\"SPY\"].drop(\"symbol\", axis=1)\n",
    "AGG = prices_df[prices_df[\"symbol\"]==\"AGG\"].drop(\"symbol\", axis=1)\n",
    "# Concatenate the ticker DataFrames\n",
    "prices_df = pd.concat([SPY, AGG], axis=1, keys=[\"SPY\", \"AGG\"])\n",
    "\n",
    "# Display both the first and last five rows of the DataFrame\n",
    "display(prices_df.head())\n",
    "prices_df.tail()\n"
   ]
  },
  {
   "cell_type": "markdown",
   "metadata": {},
   "source": [
    "#### Step 2: Run a Monte Carlo simulation of 500 samples and 30 years for the 60/40 portfolio, and then plot the results."
   ]
  },
  {
   "cell_type": "code",
   "execution_count": 102,
   "metadata": {
    "collapsed": true,
    "jupyter": {
     "outputs_hidden": true
    },
    "tags": []
   },
   "outputs": [
    {
     "data": {
      "text/html": [
       "<div>\n",
       "<style scoped>\n",
       "    .dataframe tbody tr th:only-of-type {\n",
       "        vertical-align: middle;\n",
       "    }\n",
       "\n",
       "    .dataframe tbody tr th {\n",
       "        vertical-align: top;\n",
       "    }\n",
       "\n",
       "    .dataframe thead tr th {\n",
       "        text-align: left;\n",
       "    }\n",
       "\n",
       "    .dataframe thead tr:last-of-type th {\n",
       "        text-align: right;\n",
       "    }\n",
       "</style>\n",
       "<table border=\"1\" class=\"dataframe\">\n",
       "  <thead>\n",
       "    <tr>\n",
       "      <th></th>\n",
       "      <th colspan=\"8\" halign=\"left\">SPY</th>\n",
       "      <th colspan=\"8\" halign=\"left\">AGG</th>\n",
       "    </tr>\n",
       "    <tr>\n",
       "      <th></th>\n",
       "      <th>open</th>\n",
       "      <th>high</th>\n",
       "      <th>low</th>\n",
       "      <th>close</th>\n",
       "      <th>volume</th>\n",
       "      <th>trade_count</th>\n",
       "      <th>vwap</th>\n",
       "      <th>daily_return</th>\n",
       "      <th>open</th>\n",
       "      <th>high</th>\n",
       "      <th>low</th>\n",
       "      <th>close</th>\n",
       "      <th>volume</th>\n",
       "      <th>trade_count</th>\n",
       "      <th>vwap</th>\n",
       "      <th>daily_return</th>\n",
       "    </tr>\n",
       "    <tr>\n",
       "      <th>timestamp</th>\n",
       "      <th></th>\n",
       "      <th></th>\n",
       "      <th></th>\n",
       "      <th></th>\n",
       "      <th></th>\n",
       "      <th></th>\n",
       "      <th></th>\n",
       "      <th></th>\n",
       "      <th></th>\n",
       "      <th></th>\n",
       "      <th></th>\n",
       "      <th></th>\n",
       "      <th></th>\n",
       "      <th></th>\n",
       "      <th></th>\n",
       "      <th></th>\n",
       "    </tr>\n",
       "  </thead>\n",
       "  <tbody>\n",
       "    <tr>\n",
       "      <th>2019-10-21 04:00:00+00:00</th>\n",
       "      <td>299.48</td>\n",
       "      <td>300.21</td>\n",
       "      <td>298.9350</td>\n",
       "      <td>299.99</td>\n",
       "      <td>39733263</td>\n",
       "      <td>193936</td>\n",
       "      <td>299.662986</td>\n",
       "      <td>NaN</td>\n",
       "      <td>112.62</td>\n",
       "      <td>112.7100</td>\n",
       "      <td>112.4900</td>\n",
       "      <td>112.49</td>\n",
       "      <td>4241641</td>\n",
       "      <td>12358</td>\n",
       "      <td>112.536605</td>\n",
       "      <td>NaN</td>\n",
       "    </tr>\n",
       "    <tr>\n",
       "      <th>2019-10-22 04:00:00+00:00</th>\n",
       "      <td>300.63</td>\n",
       "      <td>300.90</td>\n",
       "      <td>298.9100</td>\n",
       "      <td>299.01</td>\n",
       "      <td>49156505</td>\n",
       "      <td>227131</td>\n",
       "      <td>300.087292</td>\n",
       "      <td>-0.003267</td>\n",
       "      <td>112.72</td>\n",
       "      <td>112.7375</td>\n",
       "      <td>112.5100</td>\n",
       "      <td>112.66</td>\n",
       "      <td>2147528</td>\n",
       "      <td>10716</td>\n",
       "      <td>112.635037</td>\n",
       "      <td>0.001511</td>\n",
       "    </tr>\n",
       "    <tr>\n",
       "      <th>2019-10-23 04:00:00+00:00</th>\n",
       "      <td>298.74</td>\n",
       "      <td>299.94</td>\n",
       "      <td>298.4950</td>\n",
       "      <td>299.88</td>\n",
       "      <td>35235859</td>\n",
       "      <td>191628</td>\n",
       "      <td>299.334407</td>\n",
       "      <td>0.002910</td>\n",
       "      <td>112.82</td>\n",
       "      <td>112.8800</td>\n",
       "      <td>112.7300</td>\n",
       "      <td>112.75</td>\n",
       "      <td>1888027</td>\n",
       "      <td>7823</td>\n",
       "      <td>112.796194</td>\n",
       "      <td>0.000799</td>\n",
       "    </tr>\n",
       "    <tr>\n",
       "      <th>2019-10-24 04:00:00+00:00</th>\n",
       "      <td>300.88</td>\n",
       "      <td>301.07</td>\n",
       "      <td>299.4601</td>\n",
       "      <td>300.37</td>\n",
       "      <td>35889568</td>\n",
       "      <td>211246</td>\n",
       "      <td>300.195329</td>\n",
       "      <td>0.001634</td>\n",
       "      <td>112.84</td>\n",
       "      <td>112.9459</td>\n",
       "      <td>112.7500</td>\n",
       "      <td>112.78</td>\n",
       "      <td>1726018</td>\n",
       "      <td>7848</td>\n",
       "      <td>112.858594</td>\n",
       "      <td>0.000266</td>\n",
       "    </tr>\n",
       "    <tr>\n",
       "      <th>2019-10-25 04:00:00+00:00</th>\n",
       "      <td>299.74</td>\n",
       "      <td>302.20</td>\n",
       "      <td>299.6806</td>\n",
       "      <td>301.60</td>\n",
       "      <td>45705877</td>\n",
       "      <td>215213</td>\n",
       "      <td>301.494776</td>\n",
       "      <td>0.004095</td>\n",
       "      <td>112.84</td>\n",
       "      <td>112.8500</td>\n",
       "      <td>112.5229</td>\n",
       "      <td>112.62</td>\n",
       "      <td>2486700</td>\n",
       "      <td>9742</td>\n",
       "      <td>112.645555</td>\n",
       "      <td>-0.001419</td>\n",
       "    </tr>\n",
       "  </tbody>\n",
       "</table>\n",
       "</div>"
      ],
      "text/plain": [
       "                              SPY                                      \\\n",
       "                             open    high       low   close    volume   \n",
       "timestamp                                                               \n",
       "2019-10-21 04:00:00+00:00  299.48  300.21  298.9350  299.99  39733263   \n",
       "2019-10-22 04:00:00+00:00  300.63  300.90  298.9100  299.01  49156505   \n",
       "2019-10-23 04:00:00+00:00  298.74  299.94  298.4950  299.88  35235859   \n",
       "2019-10-24 04:00:00+00:00  300.88  301.07  299.4601  300.37  35889568   \n",
       "2019-10-25 04:00:00+00:00  299.74  302.20  299.6806  301.60  45705877   \n",
       "\n",
       "                                                                   AGG  \\\n",
       "                          trade_count        vwap daily_return    open   \n",
       "timestamp                                                                \n",
       "2019-10-21 04:00:00+00:00      193936  299.662986          NaN  112.62   \n",
       "2019-10-22 04:00:00+00:00      227131  300.087292    -0.003267  112.72   \n",
       "2019-10-23 04:00:00+00:00      191628  299.334407     0.002910  112.82   \n",
       "2019-10-24 04:00:00+00:00      211246  300.195329     0.001634  112.84   \n",
       "2019-10-25 04:00:00+00:00      215213  301.494776     0.004095  112.84   \n",
       "\n",
       "                                                                            \\\n",
       "                               high       low   close   volume trade_count   \n",
       "timestamp                                                                    \n",
       "2019-10-21 04:00:00+00:00  112.7100  112.4900  112.49  4241641       12358   \n",
       "2019-10-22 04:00:00+00:00  112.7375  112.5100  112.66  2147528       10716   \n",
       "2019-10-23 04:00:00+00:00  112.8800  112.7300  112.75  1888027        7823   \n",
       "2019-10-24 04:00:00+00:00  112.9459  112.7500  112.78  1726018        7848   \n",
       "2019-10-25 04:00:00+00:00  112.8500  112.5229  112.62  2486700        9742   \n",
       "\n",
       "                                                    \n",
       "                                 vwap daily_return  \n",
       "timestamp                                           \n",
       "2019-10-21 04:00:00+00:00  112.536605          NaN  \n",
       "2019-10-22 04:00:00+00:00  112.635037     0.001511  \n",
       "2019-10-23 04:00:00+00:00  112.796194     0.000799  \n",
       "2019-10-24 04:00:00+00:00  112.858594     0.000266  \n",
       "2019-10-25 04:00:00+00:00  112.645555    -0.001419  "
      ]
     },
     "execution_count": 102,
     "metadata": {},
     "output_type": "execute_result"
    }
   ],
   "source": [
    "# Configure the Monte Carlo simulation to forecast 30 years cumulative returns\n",
    "# The weights should be split 40% to AGG and 60% to SPY.\n",
    "# Run 500 samples.\n",
    "MC_30yr = MCSimulation(portfolio_data = prices_df, weights = [.60,.40], num_simulation = 500, num_trading_days = 252*30)\n",
    "\n",
    "# Review the simulation input data\n",
    "MC_30yr.portfolio_data.head()\n"
   ]
  },
  {
   "cell_type": "code",
   "execution_count": null,
   "metadata": {},
   "outputs": [],
   "source": [
    "# Run the Monte Carlo simulation to forecast 30 years cumulative returns\n",
    "MC_30yr.calc_cumulative_return()\n"
   ]
  },
  {
   "cell_type": "code",
   "execution_count": 103,
   "metadata": {
    "collapsed": true,
    "jupyter": {
     "outputs_hidden": true
    },
    "tags": []
   },
   "outputs": [
    {
     "name": "stdout",
     "output_type": "stream",
     "text": [
      "Running Monte Carlo simulation number 0.\n",
      "Running Monte Carlo simulation number 10.\n",
      "Running Monte Carlo simulation number 20.\n",
      "Running Monte Carlo simulation number 30.\n",
      "Running Monte Carlo simulation number 40.\n",
      "Running Monte Carlo simulation number 50.\n",
      "Running Monte Carlo simulation number 60.\n",
      "Running Monte Carlo simulation number 70.\n",
      "Running Monte Carlo simulation number 80.\n",
      "Running Monte Carlo simulation number 90.\n",
      "Running Monte Carlo simulation number 100.\n"
     ]
    },
    {
     "name": "stderr",
     "output_type": "stream",
     "text": [
      "/Users/evieair/Desktop/FT-Workspace/GitHub/Financial_Planning_Tools/MCForecastTools.py:117: PerformanceWarning: DataFrame is highly fragmented.  This is usually the result of calling `frame.insert` many times, which has poor performance.  Consider joining all columns at once using pd.concat(axis=1) instead.  To get a de-fragmented frame, use `newframe = frame.copy()`\n",
      "  portfolio_cumulative_returns[n] = (1 + sim_df.fillna(0)).cumprod()\n"
     ]
    },
    {
     "name": "stdout",
     "output_type": "stream",
     "text": [
      "Running Monte Carlo simulation number 110.\n",
      "Running Monte Carlo simulation number 120.\n",
      "Running Monte Carlo simulation number 130.\n",
      "Running Monte Carlo simulation number 140.\n",
      "Running Monte Carlo simulation number 150.\n",
      "Running Monte Carlo simulation number 160.\n",
      "Running Monte Carlo simulation number 170.\n",
      "Running Monte Carlo simulation number 180.\n",
      "Running Monte Carlo simulation number 190.\n",
      "Running Monte Carlo simulation number 200.\n",
      "Running Monte Carlo simulation number 210.\n",
      "Running Monte Carlo simulation number 220.\n",
      "Running Monte Carlo simulation number 230.\n",
      "Running Monte Carlo simulation number 240.\n",
      "Running Monte Carlo simulation number 250.\n",
      "Running Monte Carlo simulation number 260.\n",
      "Running Monte Carlo simulation number 270.\n",
      "Running Monte Carlo simulation number 280.\n",
      "Running Monte Carlo simulation number 290.\n",
      "Running Monte Carlo simulation number 300.\n",
      "Running Monte Carlo simulation number 310.\n",
      "Running Monte Carlo simulation number 320.\n",
      "Running Monte Carlo simulation number 330.\n",
      "Running Monte Carlo simulation number 340.\n",
      "Running Monte Carlo simulation number 350.\n",
      "Running Monte Carlo simulation number 360.\n",
      "Running Monte Carlo simulation number 370.\n",
      "Running Monte Carlo simulation number 380.\n",
      "Running Monte Carlo simulation number 390.\n",
      "Running Monte Carlo simulation number 400.\n",
      "Running Monte Carlo simulation number 410.\n",
      "Running Monte Carlo simulation number 420.\n",
      "Running Monte Carlo simulation number 430.\n",
      "Running Monte Carlo simulation number 440.\n",
      "Running Monte Carlo simulation number 450.\n",
      "Running Monte Carlo simulation number 460.\n",
      "Running Monte Carlo simulation number 470.\n",
      "Running Monte Carlo simulation number 480.\n",
      "Running Monte Carlo simulation number 490.\n"
     ]
    },
    {
     "data": {
      "image/png": "[encoded data removed]",
      "text/plain": [
       "<Figure size 432x288 with 1 Axes>"
      ]
     },
     "metadata": {
      "needs_background": "light"
     },
     "output_type": "display_data"
    }
   ],
   "source": [
    "# Visualize the 30-year Monte Carlo simulation by creating an\n",
    "# overlay line plot\n",
    "MC_sim_line_plot = MC_30yr.plot_simulation()\n"
   ]
  },
  {
   "cell_type": "markdown",
   "metadata": {},
   "source": [
    "#### Step 3: Plot the probability distribution of the Monte Carlo simulation."
   ]
  },
  {
   "cell_type": "code",
   "execution_count": 104,
   "metadata": {
    "collapsed": true,
    "jupyter": {
     "outputs_hidden": true
    },
    "tags": []
   },
   "outputs": [
    {
     "data": {
      "image/png": "[encoded data removed]",
      "text/plain": [
       "<Figure size 432x288 with 1 Axes>"
      ]
     },
     "metadata": {
      "needs_background": "light"
     },
     "output_type": "display_data"
    }
   ],
   "source": [
    "# Visualize the probability distribution of the 30-year Monte Carlo simulation \n",
    "# by plotting a histogram\n",
    "MC_sim_dist_plot = MC_30yr.plot_distribution()\n"
   ]
  },
  {
   "cell_type": "markdown",
   "metadata": {},
   "source": [
    "#### Step 4: Generate the summary statistics for the Monte Carlo simulation."
   ]
  },
  {
   "cell_type": "code",
   "execution_count": 105,
   "metadata": {
    "tags": []
   },
   "outputs": [
    {
     "name": "stdout",
     "output_type": "stream",
     "text": [
      "count           500.000000\n",
      "mean              2.803188\n",
      "std               2.739960\n",
      "min               0.173070\n",
      "25%               1.210709\n",
      "50%               2.037265\n",
      "75%               3.379898\n",
      "max              25.698079\n",
      "95% CI Lower      0.505684\n",
      "95% CI Upper     10.254229\n",
      "Name: 7560, dtype: float64\n"
     ]
    }
   ],
   "source": [
    "# Generate summary statistics from the 30-year Monte Carlo simulation results\n",
    "# Save the results as a variable\n",
    "MC_30yr_summary_stats = MC_30yr.summarize_cumulative_return()\n",
    "\n",
    "\n",
    "# Review the 30-year Monte Carlo summary statistics\n",
    "print(MC_30yr_summary_stats)"
   ]
  },
  {
   "cell_type": "markdown",
   "metadata": {},
   "source": [
    "### Analyze the Retirement Portfolio Forecasts\n",
    "\n",
    "Using the current value of only the stock and bond portion of the member's portfolio and the summary statistics that you generated from the Monte Carlo simulation, answer the following question in your Jupyter notebook:\n",
    "\n",
    "-  What are the lower and upper bounds for the expected value of the portfolio with a 95% confidence interval?\n"
   ]
  },
  {
   "cell_type": "code",
   "execution_count": 106,
   "metadata": {},
   "outputs": [
    {
     "name": "stdout",
     "output_type": "stream",
     "text": [
      "The current balance of the stock and bond portion of the portfolio is $ 59375.0\n"
     ]
    }
   ],
   "source": [
    "# Print the current balance of the stock and bond portion of the members portfolio\n",
    "print(\"The current balance of the stock and bond portion of the portfolio is $\", total_stocks_bonds)\n"
   ]
  },
  {
   "cell_type": "code",
   "execution_count": 107,
   "metadata": {},
   "outputs": [
    {
     "name": "stdout",
     "output_type": "stream",
     "text": [
      "Over the next 30 years, there is a 95% chance that the current bond portfolio value will end in returns between $ 30024.98 and $ 608844.85\n"
     ]
    }
   ],
   "source": [
    "# Use the lower and upper `95%` confidence intervals to calculate the range of the possible outcomes for the current stock/bond portfolio\n",
    "ci_lower_thirty_cumulative_return = MC_30yr_summary_stats[8] * total_stocks_bonds\n",
    "ci_upper_thirty_cumulative_return = MC_30yr_summary_stats[9] * total_stocks_bonds\n",
    "\n",
    "# Print the result of your calculations\n",
    "print(f\"Over the next 30 years, there is a 95% chance that the current bond portfolio value will end in returns between ${ci_lower_thirty_cumulative_return: .2f} and ${ci_upper_thirty_cumulative_return: .2f}\")\n"
   ]
  },
  {
   "cell_type": "markdown",
   "metadata": {},
   "source": [
    "### Forecast Cumulative Returns in 10 Years\n",
    "\n",
    "The CTO of the credit union is impressed with your work on these planning tools but wonders if 30 years is a long time to wait until retirement. So, your next task is to adjust the retirement portfolio and run a new Monte Carlo simulation to find out if the changes will allow members to retire earlier.\n",
    "\n",
    "For this new Monte Carlo simulation, do the following: \n",
    "\n",
    "- Forecast the cumulative returns for 10 years from now. Because of the shortened investment horizon (30 years to 10 years), the portfolio needs to invest more heavily in the riskier asset&mdash;that is, stock&mdash;to help accumulate wealth for retirement. \n",
    "\n",
    "- Adjust the weights of the retirement portfolio so that the composition for the Monte Carlo simulation consists of 20% bonds and 80% stocks. \n",
    "\n",
    "- Run the simulation over 500 samples, and use the same data that the API call to Alpaca generated.\n",
    "\n",
    "- Based on the new Monte Carlo simulation, answer the following questions in your Jupyter notebook:\n",
    "\n",
    "    - Using the current value of only the stock and bond portion of the member's portfolio and the summary statistics that you generated from the new Monte Carlo simulation, what are the lower and upper bounds for the expected value of the portfolio (with the new weights) with a 95% confidence interval?\n",
    "\n",
    "    - Will weighting the portfolio more heavily toward stocks allow the credit union members to retire after only 10 years?\n"
   ]
  },
  {
   "cell_type": "code",
   "execution_count": 108,
   "metadata": {},
   "outputs": [
    {
     "data": {
      "text/html": [
       "<div>\n",
       "<style scoped>\n",
       "    .dataframe tbody tr th:only-of-type {\n",
       "        vertical-align: middle;\n",
       "    }\n",
       "\n",
       "    .dataframe tbody tr th {\n",
       "        vertical-align: top;\n",
       "    }\n",
       "\n",
       "    .dataframe thead tr th {\n",
       "        text-align: left;\n",
       "    }\n",
       "\n",
       "    .dataframe thead tr:last-of-type th {\n",
       "        text-align: right;\n",
       "    }\n",
       "</style>\n",
       "<table border=\"1\" class=\"dataframe\">\n",
       "  <thead>\n",
       "    <tr>\n",
       "      <th></th>\n",
       "      <th colspan=\"8\" halign=\"left\">SPY</th>\n",
       "      <th colspan=\"8\" halign=\"left\">AGG</th>\n",
       "    </tr>\n",
       "    <tr>\n",
       "      <th></th>\n",
       "      <th>open</th>\n",
       "      <th>high</th>\n",
       "      <th>low</th>\n",
       "      <th>close</th>\n",
       "      <th>volume</th>\n",
       "      <th>trade_count</th>\n",
       "      <th>vwap</th>\n",
       "      <th>daily_return</th>\n",
       "      <th>open</th>\n",
       "      <th>high</th>\n",
       "      <th>low</th>\n",
       "      <th>close</th>\n",
       "      <th>volume</th>\n",
       "      <th>trade_count</th>\n",
       "      <th>vwap</th>\n",
       "      <th>daily_return</th>\n",
       "    </tr>\n",
       "    <tr>\n",
       "      <th>timestamp</th>\n",
       "      <th></th>\n",
       "      <th></th>\n",
       "      <th></th>\n",
       "      <th></th>\n",
       "      <th></th>\n",
       "      <th></th>\n",
       "      <th></th>\n",
       "      <th></th>\n",
       "      <th></th>\n",
       "      <th></th>\n",
       "      <th></th>\n",
       "      <th></th>\n",
       "      <th></th>\n",
       "      <th></th>\n",
       "      <th></th>\n",
       "      <th></th>\n",
       "    </tr>\n",
       "  </thead>\n",
       "  <tbody>\n",
       "    <tr>\n",
       "      <th>2019-10-21 04:00:00+00:00</th>\n",
       "      <td>299.48</td>\n",
       "      <td>300.21</td>\n",
       "      <td>298.9350</td>\n",
       "      <td>299.99</td>\n",
       "      <td>39733263</td>\n",
       "      <td>193936</td>\n",
       "      <td>299.662986</td>\n",
       "      <td>NaN</td>\n",
       "      <td>112.62</td>\n",
       "      <td>112.7100</td>\n",
       "      <td>112.4900</td>\n",
       "      <td>112.49</td>\n",
       "      <td>4241641</td>\n",
       "      <td>12358</td>\n",
       "      <td>112.536605</td>\n",
       "      <td>NaN</td>\n",
       "    </tr>\n",
       "    <tr>\n",
       "      <th>2019-10-22 04:00:00+00:00</th>\n",
       "      <td>300.63</td>\n",
       "      <td>300.90</td>\n",
       "      <td>298.9100</td>\n",
       "      <td>299.01</td>\n",
       "      <td>49156505</td>\n",
       "      <td>227131</td>\n",
       "      <td>300.087292</td>\n",
       "      <td>-0.003267</td>\n",
       "      <td>112.72</td>\n",
       "      <td>112.7375</td>\n",
       "      <td>112.5100</td>\n",
       "      <td>112.66</td>\n",
       "      <td>2147528</td>\n",
       "      <td>10716</td>\n",
       "      <td>112.635037</td>\n",
       "      <td>0.001511</td>\n",
       "    </tr>\n",
       "    <tr>\n",
       "      <th>2019-10-23 04:00:00+00:00</th>\n",
       "      <td>298.74</td>\n",
       "      <td>299.94</td>\n",
       "      <td>298.4950</td>\n",
       "      <td>299.88</td>\n",
       "      <td>35235859</td>\n",
       "      <td>191628</td>\n",
       "      <td>299.334407</td>\n",
       "      <td>0.002910</td>\n",
       "      <td>112.82</td>\n",
       "      <td>112.8800</td>\n",
       "      <td>112.7300</td>\n",
       "      <td>112.75</td>\n",
       "      <td>1888027</td>\n",
       "      <td>7823</td>\n",
       "      <td>112.796194</td>\n",
       "      <td>0.000799</td>\n",
       "    </tr>\n",
       "    <tr>\n",
       "      <th>2019-10-24 04:00:00+00:00</th>\n",
       "      <td>300.88</td>\n",
       "      <td>301.07</td>\n",
       "      <td>299.4601</td>\n",
       "      <td>300.37</td>\n",
       "      <td>35889568</td>\n",
       "      <td>211246</td>\n",
       "      <td>300.195329</td>\n",
       "      <td>0.001634</td>\n",
       "      <td>112.84</td>\n",
       "      <td>112.9459</td>\n",
       "      <td>112.7500</td>\n",
       "      <td>112.78</td>\n",
       "      <td>1726018</td>\n",
       "      <td>7848</td>\n",
       "      <td>112.858594</td>\n",
       "      <td>0.000266</td>\n",
       "    </tr>\n",
       "    <tr>\n",
       "      <th>2019-10-25 04:00:00+00:00</th>\n",
       "      <td>299.74</td>\n",
       "      <td>302.20</td>\n",
       "      <td>299.6806</td>\n",
       "      <td>301.60</td>\n",
       "      <td>45705877</td>\n",
       "      <td>215213</td>\n",
       "      <td>301.494776</td>\n",
       "      <td>0.004095</td>\n",
       "      <td>112.84</td>\n",
       "      <td>112.8500</td>\n",
       "      <td>112.5229</td>\n",
       "      <td>112.62</td>\n",
       "      <td>2486700</td>\n",
       "      <td>9742</td>\n",
       "      <td>112.645555</td>\n",
       "      <td>-0.001419</td>\n",
       "    </tr>\n",
       "  </tbody>\n",
       "</table>\n",
       "</div>"
      ],
      "text/plain": [
       "                              SPY                                      \\\n",
       "                             open    high       low   close    volume   \n",
       "timestamp                                                               \n",
       "2019-10-21 04:00:00+00:00  299.48  300.21  298.9350  299.99  39733263   \n",
       "2019-10-22 04:00:00+00:00  300.63  300.90  298.9100  299.01  49156505   \n",
       "2019-10-23 04:00:00+00:00  298.74  299.94  298.4950  299.88  35235859   \n",
       "2019-10-24 04:00:00+00:00  300.88  301.07  299.4601  300.37  35889568   \n",
       "2019-10-25 04:00:00+00:00  299.74  302.20  299.6806  301.60  45705877   \n",
       "\n",
       "                                                                   AGG  \\\n",
       "                          trade_count        vwap daily_return    open   \n",
       "timestamp                                                                \n",
       "2019-10-21 04:00:00+00:00      193936  299.662986          NaN  112.62   \n",
       "2019-10-22 04:00:00+00:00      227131  300.087292    -0.003267  112.72   \n",
       "2019-10-23 04:00:00+00:00      191628  299.334407     0.002910  112.82   \n",
       "2019-10-24 04:00:00+00:00      211246  300.195329     0.001634  112.84   \n",
       "2019-10-25 04:00:00+00:00      215213  301.494776     0.004095  112.84   \n",
       "\n",
       "                                                                            \\\n",
       "                               high       low   close   volume trade_count   \n",
       "timestamp                                                                    \n",
       "2019-10-21 04:00:00+00:00  112.7100  112.4900  112.49  4241641       12358   \n",
       "2019-10-22 04:00:00+00:00  112.7375  112.5100  112.66  2147528       10716   \n",
       "2019-10-23 04:00:00+00:00  112.8800  112.7300  112.75  1888027        7823   \n",
       "2019-10-24 04:00:00+00:00  112.9459  112.7500  112.78  1726018        7848   \n",
       "2019-10-25 04:00:00+00:00  112.8500  112.5229  112.62  2486700        9742   \n",
       "\n",
       "                                                    \n",
       "                                 vwap daily_return  \n",
       "timestamp                                           \n",
       "2019-10-21 04:00:00+00:00  112.536605          NaN  \n",
       "2019-10-22 04:00:00+00:00  112.635037     0.001511  \n",
       "2019-10-23 04:00:00+00:00  112.796194     0.000799  \n",
       "2019-10-24 04:00:00+00:00  112.858594     0.000266  \n",
       "2019-10-25 04:00:00+00:00  112.645555    -0.001419  "
      ]
     },
     "execution_count": 108,
     "metadata": {},
     "output_type": "execute_result"
    }
   ],
   "source": [
    "# Configure a Monte Carlo simulation to forecast 10 years cumulative returns\n",
    "# The weights should be split 20% to AGG and 80% to SPY.\n",
    "# Run 500 samples.\n",
    "MC_10yr = MCSimulation(portfolio_data = prices_df, weights = [.80,.20], num_simulation = 500, num_trading_days = 252*10)\n",
    "\n",
    "# Review the simulation input data\n",
    "MC_10yr.portfolio_data.head()\n"
   ]
  },
  {
   "cell_type": "code",
   "execution_count": 109,
   "metadata": {
    "collapsed": true,
    "jupyter": {
     "outputs_hidden": true
    },
    "tags": []
   },
   "outputs": [
    {
     "name": "stdout",
     "output_type": "stream",
     "text": [
      "Running Monte Carlo simulation number 0.\n",
      "Running Monte Carlo simulation number 10.\n",
      "Running Monte Carlo simulation number 20.\n",
      "Running Monte Carlo simulation number 30.\n",
      "Running Monte Carlo simulation number 40.\n",
      "Running Monte Carlo simulation number 50.\n",
      "Running Monte Carlo simulation number 60.\n",
      "Running Monte Carlo simulation number 70.\n",
      "Running Monte Carlo simulation number 80.\n",
      "Running Monte Carlo simulation number 90.\n",
      "Running Monte Carlo simulation number 100.\n"
     ]
    },
    {
     "name": "stderr",
     "output_type": "stream",
     "text": [
      "/Users/evieair/Desktop/FT-Workspace/GitHub/Financial_Planning_Tools/MCForecastTools.py:117: PerformanceWarning: DataFrame is highly fragmented.  This is usually the result of calling `frame.insert` many times, which has poor performance.  Consider joining all columns at once using pd.concat(axis=1) instead.  To get a de-fragmented frame, use `newframe = frame.copy()`\n",
      "  portfolio_cumulative_returns[n] = (1 + sim_df.fillna(0)).cumprod()\n"
     ]
    },
    {
     "name": "stdout",
     "output_type": "stream",
     "text": [
      "Running Monte Carlo simulation number 110.\n",
      "Running Monte Carlo simulation number 120.\n",
      "Running Monte Carlo simulation number 130.\n",
      "Running Monte Carlo simulation number 140.\n",
      "Running Monte Carlo simulation number 150.\n",
      "Running Monte Carlo simulation number 160.\n",
      "Running Monte Carlo simulation number 170.\n",
      "Running Monte Carlo simulation number 180.\n",
      "Running Monte Carlo simulation number 190.\n",
      "Running Monte Carlo simulation number 200.\n",
      "Running Monte Carlo simulation number 210.\n",
      "Running Monte Carlo simulation number 220.\n",
      "Running Monte Carlo simulation number 230.\n",
      "Running Monte Carlo simulation number 240.\n",
      "Running Monte Carlo simulation number 250.\n",
      "Running Monte Carlo simulation number 260.\n",
      "Running Monte Carlo simulation number 270.\n",
      "Running Monte Carlo simulation number 280.\n",
      "Running Monte Carlo simulation number 290.\n",
      "Running Monte Carlo simulation number 300.\n",
      "Running Monte Carlo simulation number 310.\n",
      "Running Monte Carlo simulation number 320.\n",
      "Running Monte Carlo simulation number 330.\n",
      "Running Monte Carlo simulation number 340.\n",
      "Running Monte Carlo simulation number 350.\n",
      "Running Monte Carlo simulation number 360.\n",
      "Running Monte Carlo simulation number 370.\n",
      "Running Monte Carlo simulation number 380.\n",
      "Running Monte Carlo simulation number 390.\n",
      "Running Monte Carlo simulation number 400.\n",
      "Running Monte Carlo simulation number 410.\n",
      "Running Monte Carlo simulation number 420.\n",
      "Running Monte Carlo simulation number 430.\n",
      "Running Monte Carlo simulation number 440.\n",
      "Running Monte Carlo simulation number 450.\n",
      "Running Monte Carlo simulation number 460.\n",
      "Running Monte Carlo simulation number 470.\n",
      "Running Monte Carlo simulation number 480.\n",
      "Running Monte Carlo simulation number 490.\n"
     ]
    },
    {
     "data": {
      "text/html": [
       "<div>\n",
       "<style scoped>\n",
       "    .dataframe tbody tr th:only-of-type {\n",
       "        vertical-align: middle;\n",
       "    }\n",
       "\n",
       "    .dataframe tbody tr th {\n",
       "        vertical-align: top;\n",
       "    }\n",
       "\n",
       "    .dataframe thead th {\n",
       "        text-align: right;\n",
       "    }\n",
       "</style>\n",
       "<table border=\"1\" class=\"dataframe\">\n",
       "  <thead>\n",
       "    <tr style=\"text-align: right;\">\n",
       "      <th></th>\n",
       "      <th>0</th>\n",
       "      <th>1</th>\n",
       "      <th>2</th>\n",
       "      <th>3</th>\n",
       "      <th>4</th>\n",
       "      <th>5</th>\n",
       "      <th>6</th>\n",
       "      <th>7</th>\n",
       "      <th>8</th>\n",
       "      <th>9</th>\n",
       "      <th>...</th>\n",
       "      <th>490</th>\n",
       "      <th>491</th>\n",
       "      <th>492</th>\n",
       "      <th>493</th>\n",
       "      <th>494</th>\n",
       "      <th>495</th>\n",
       "      <th>496</th>\n",
       "      <th>497</th>\n",
       "      <th>498</th>\n",
       "      <th>499</th>\n",
       "    </tr>\n",
       "  </thead>\n",
       "  <tbody>\n",
       "    <tr>\n",
       "      <th>0</th>\n",
       "      <td>1.000000</td>\n",
       "      <td>1.000000</td>\n",
       "      <td>1.000000</td>\n",
       "      <td>1.000000</td>\n",
       "      <td>1.000000</td>\n",
       "      <td>1.000000</td>\n",
       "      <td>1.000000</td>\n",
       "      <td>1.000000</td>\n",
       "      <td>1.000000</td>\n",
       "      <td>1.000000</td>\n",
       "      <td>...</td>\n",
       "      <td>1.000000</td>\n",
       "      <td>1.000000</td>\n",
       "      <td>1.000000</td>\n",
       "      <td>1.000000</td>\n",
       "      <td>1.000000</td>\n",
       "      <td>1.000000</td>\n",
       "      <td>1.000000</td>\n",
       "      <td>1.000000</td>\n",
       "      <td>1.000000</td>\n",
       "      <td>1.000000</td>\n",
       "    </tr>\n",
       "    <tr>\n",
       "      <th>1</th>\n",
       "      <td>1.003855</td>\n",
       "      <td>0.984162</td>\n",
       "      <td>0.991176</td>\n",
       "      <td>1.008480</td>\n",
       "      <td>0.992166</td>\n",
       "      <td>0.997576</td>\n",
       "      <td>1.001991</td>\n",
       "      <td>1.001429</td>\n",
       "      <td>0.986392</td>\n",
       "      <td>0.989689</td>\n",
       "      <td>...</td>\n",
       "      <td>0.996907</td>\n",
       "      <td>0.996529</td>\n",
       "      <td>1.001895</td>\n",
       "      <td>1.008625</td>\n",
       "      <td>0.998619</td>\n",
       "      <td>0.999354</td>\n",
       "      <td>0.982903</td>\n",
       "      <td>1.009486</td>\n",
       "      <td>0.994921</td>\n",
       "      <td>0.986977</td>\n",
       "    </tr>\n",
       "    <tr>\n",
       "      <th>2</th>\n",
       "      <td>1.018614</td>\n",
       "      <td>0.959193</td>\n",
       "      <td>0.994434</td>\n",
       "      <td>1.000161</td>\n",
       "      <td>1.002929</td>\n",
       "      <td>1.003364</td>\n",
       "      <td>1.011080</td>\n",
       "      <td>1.006804</td>\n",
       "      <td>1.002397</td>\n",
       "      <td>0.984765</td>\n",
       "      <td>...</td>\n",
       "      <td>1.004203</td>\n",
       "      <td>0.995775</td>\n",
       "      <td>1.014964</td>\n",
       "      <td>1.029630</td>\n",
       "      <td>0.995084</td>\n",
       "      <td>1.015933</td>\n",
       "      <td>0.985466</td>\n",
       "      <td>1.010146</td>\n",
       "      <td>1.001736</td>\n",
       "      <td>0.985697</td>\n",
       "    </tr>\n",
       "    <tr>\n",
       "      <th>3</th>\n",
       "      <td>1.002942</td>\n",
       "      <td>0.972555</td>\n",
       "      <td>1.009522</td>\n",
       "      <td>1.007072</td>\n",
       "      <td>1.007182</td>\n",
       "      <td>0.999882</td>\n",
       "      <td>1.008024</td>\n",
       "      <td>1.007272</td>\n",
       "      <td>1.009900</td>\n",
       "      <td>1.016773</td>\n",
       "      <td>...</td>\n",
       "      <td>1.000189</td>\n",
       "      <td>0.979425</td>\n",
       "      <td>1.012290</td>\n",
       "      <td>1.032210</td>\n",
       "      <td>1.003967</td>\n",
       "      <td>1.002021</td>\n",
       "      <td>0.986672</td>\n",
       "      <td>0.998400</td>\n",
       "      <td>1.001225</td>\n",
       "      <td>0.979394</td>\n",
       "    </tr>\n",
       "    <tr>\n",
       "      <th>4</th>\n",
       "      <td>1.007705</td>\n",
       "      <td>0.967771</td>\n",
       "      <td>1.012292</td>\n",
       "      <td>0.993120</td>\n",
       "      <td>0.996670</td>\n",
       "      <td>1.013376</td>\n",
       "      <td>1.007020</td>\n",
       "      <td>1.020255</td>\n",
       "      <td>1.005417</td>\n",
       "      <td>1.018444</td>\n",
       "      <td>...</td>\n",
       "      <td>1.022885</td>\n",
       "      <td>0.960520</td>\n",
       "      <td>1.005997</td>\n",
       "      <td>1.037651</td>\n",
       "      <td>1.004029</td>\n",
       "      <td>0.982023</td>\n",
       "      <td>0.990672</td>\n",
       "      <td>0.981128</td>\n",
       "      <td>0.998352</td>\n",
       "      <td>0.981018</td>\n",
       "    </tr>\n",
       "    <tr>\n",
       "      <th>...</th>\n",
       "      <td>...</td>\n",
       "      <td>...</td>\n",
       "      <td>...</td>\n",
       "      <td>...</td>\n",
       "      <td>...</td>\n",
       "      <td>...</td>\n",
       "      <td>...</td>\n",
       "      <td>...</td>\n",
       "      <td>...</td>\n",
       "      <td>...</td>\n",
       "      <td>...</td>\n",
       "      <td>...</td>\n",
       "      <td>...</td>\n",
       "      <td>...</td>\n",
       "      <td>...</td>\n",
       "      <td>...</td>\n",
       "      <td>...</td>\n",
       "      <td>...</td>\n",
       "      <td>...</td>\n",
       "      <td>...</td>\n",
       "      <td>...</td>\n",
       "    </tr>\n",
       "    <tr>\n",
       "      <th>2516</th>\n",
       "      <td>0.824054</td>\n",
       "      <td>2.662629</td>\n",
       "      <td>4.033290</td>\n",
       "      <td>1.206802</td>\n",
       "      <td>1.593913</td>\n",
       "      <td>1.588583</td>\n",
       "      <td>0.619235</td>\n",
       "      <td>5.707080</td>\n",
       "      <td>1.122153</td>\n",
       "      <td>0.931937</td>\n",
       "      <td>...</td>\n",
       "      <td>1.140893</td>\n",
       "      <td>1.147716</td>\n",
       "      <td>4.486475</td>\n",
       "      <td>1.975059</td>\n",
       "      <td>1.996516</td>\n",
       "      <td>3.164234</td>\n",
       "      <td>1.673652</td>\n",
       "      <td>1.983424</td>\n",
       "      <td>2.620629</td>\n",
       "      <td>1.593074</td>\n",
       "    </tr>\n",
       "    <tr>\n",
       "      <th>2517</th>\n",
       "      <td>0.824187</td>\n",
       "      <td>2.643753</td>\n",
       "      <td>4.009771</td>\n",
       "      <td>1.199505</td>\n",
       "      <td>1.583654</td>\n",
       "      <td>1.602219</td>\n",
       "      <td>0.629915</td>\n",
       "      <td>5.605194</td>\n",
       "      <td>1.128245</td>\n",
       "      <td>0.934490</td>\n",
       "      <td>...</td>\n",
       "      <td>1.161652</td>\n",
       "      <td>1.139044</td>\n",
       "      <td>4.493817</td>\n",
       "      <td>1.958271</td>\n",
       "      <td>2.011557</td>\n",
       "      <td>3.192293</td>\n",
       "      <td>1.678466</td>\n",
       "      <td>1.973425</td>\n",
       "      <td>2.573724</td>\n",
       "      <td>1.556119</td>\n",
       "    </tr>\n",
       "    <tr>\n",
       "      <th>2518</th>\n",
       "      <td>0.832114</td>\n",
       "      <td>2.601206</td>\n",
       "      <td>4.108318</td>\n",
       "      <td>1.190903</td>\n",
       "      <td>1.594098</td>\n",
       "      <td>1.615504</td>\n",
       "      <td>0.641109</td>\n",
       "      <td>5.664335</td>\n",
       "      <td>1.118583</td>\n",
       "      <td>0.944712</td>\n",
       "      <td>...</td>\n",
       "      <td>1.156465</td>\n",
       "      <td>1.134579</td>\n",
       "      <td>4.543976</td>\n",
       "      <td>1.941399</td>\n",
       "      <td>2.037494</td>\n",
       "      <td>3.182869</td>\n",
       "      <td>1.702911</td>\n",
       "      <td>2.004404</td>\n",
       "      <td>2.577445</td>\n",
       "      <td>1.538187</td>\n",
       "    </tr>\n",
       "    <tr>\n",
       "      <th>2519</th>\n",
       "      <td>0.839307</td>\n",
       "      <td>2.583448</td>\n",
       "      <td>4.088783</td>\n",
       "      <td>1.190306</td>\n",
       "      <td>1.589620</td>\n",
       "      <td>1.610568</td>\n",
       "      <td>0.640295</td>\n",
       "      <td>5.639944</td>\n",
       "      <td>1.160430</td>\n",
       "      <td>0.930046</td>\n",
       "      <td>...</td>\n",
       "      <td>1.163582</td>\n",
       "      <td>1.153229</td>\n",
       "      <td>4.530330</td>\n",
       "      <td>1.948022</td>\n",
       "      <td>2.017467</td>\n",
       "      <td>3.103332</td>\n",
       "      <td>1.735650</td>\n",
       "      <td>1.989117</td>\n",
       "      <td>2.534869</td>\n",
       "      <td>1.557937</td>\n",
       "    </tr>\n",
       "    <tr>\n",
       "      <th>2520</th>\n",
       "      <td>0.844077</td>\n",
       "      <td>2.569332</td>\n",
       "      <td>4.096651</td>\n",
       "      <td>1.183479</td>\n",
       "      <td>1.602748</td>\n",
       "      <td>1.596095</td>\n",
       "      <td>0.627125</td>\n",
       "      <td>5.687569</td>\n",
       "      <td>1.164581</td>\n",
       "      <td>0.942758</td>\n",
       "      <td>...</td>\n",
       "      <td>1.145266</td>\n",
       "      <td>1.160610</td>\n",
       "      <td>4.556012</td>\n",
       "      <td>1.951342</td>\n",
       "      <td>2.013318</td>\n",
       "      <td>3.122581</td>\n",
       "      <td>1.749242</td>\n",
       "      <td>1.977909</td>\n",
       "      <td>2.489613</td>\n",
       "      <td>1.523625</td>\n",
       "    </tr>\n",
       "  </tbody>\n",
       "</table>\n",
       "<p>2521 rows × 500 columns</p>\n",
       "</div>"
      ],
      "text/plain": [
       "           0         1         2         3         4         5         6    \\\n",
       "0     1.000000  1.000000  1.000000  1.000000  1.000000  1.000000  1.000000   \n",
       "1     1.003855  0.984162  0.991176  1.008480  0.992166  0.997576  1.001991   \n",
       "2     1.018614  0.959193  0.994434  1.000161  1.002929  1.003364  1.011080   \n",
       "3     1.002942  0.972555  1.009522  1.007072  1.007182  0.999882  1.008024   \n",
       "4     1.007705  0.967771  1.012292  0.993120  0.996670  1.013376  1.007020   \n",
       "...        ...       ...       ...       ...       ...       ...       ...   \n",
       "2516  0.824054  2.662629  4.033290  1.206802  1.593913  1.588583  0.619235   \n",
       "2517  0.824187  2.643753  4.009771  1.199505  1.583654  1.602219  0.629915   \n",
       "2518  0.832114  2.601206  4.108318  1.190903  1.594098  1.615504  0.641109   \n",
       "2519  0.839307  2.583448  4.088783  1.190306  1.589620  1.610568  0.640295   \n",
       "2520  0.844077  2.569332  4.096651  1.183479  1.602748  1.596095  0.627125   \n",
       "\n",
       "           7         8         9    ...       490       491       492  \\\n",
       "0     1.000000  1.000000  1.000000  ...  1.000000  1.000000  1.000000   \n",
       "1     1.001429  0.986392  0.989689  ...  0.996907  0.996529  1.001895   \n",
       "2     1.006804  1.002397  0.984765  ...  1.004203  0.995775  1.014964   \n",
       "3     1.007272  1.009900  1.016773  ...  1.000189  0.979425  1.012290   \n",
       "4     1.020255  1.005417  1.018444  ...  1.022885  0.960520  1.005997   \n",
       "...        ...       ...       ...  ...       ...       ...       ...   \n",
       "2516  5.707080  1.122153  0.931937  ...  1.140893  1.147716  4.486475   \n",
       "2517  5.605194  1.128245  0.934490  ...  1.161652  1.139044  4.493817   \n",
       "2518  5.664335  1.118583  0.944712  ...  1.156465  1.134579  4.543976   \n",
       "2519  5.639944  1.160430  0.930046  ...  1.163582  1.153229  4.530330   \n",
       "2520  5.687569  1.164581  0.942758  ...  1.145266  1.160610  4.556012   \n",
       "\n",
       "           493       494       495       496       497       498       499  \n",
       "0     1.000000  1.000000  1.000000  1.000000  1.000000  1.000000  1.000000  \n",
       "1     1.008625  0.998619  0.999354  0.982903  1.009486  0.994921  0.986977  \n",
       "2     1.029630  0.995084  1.015933  0.985466  1.010146  1.001736  0.985697  \n",
       "3     1.032210  1.003967  1.002021  0.986672  0.998400  1.001225  0.979394  \n",
       "4     1.037651  1.004029  0.982023  0.990672  0.981128  0.998352  0.981018  \n",
       "...        ...       ...       ...       ...       ...       ...       ...  \n",
       "2516  1.975059  1.996516  3.164234  1.673652  1.983424  2.620629  1.593074  \n",
       "2517  1.958271  2.011557  3.192293  1.678466  1.973425  2.573724  1.556119  \n",
       "2518  1.941399  2.037494  3.182869  1.702911  2.004404  2.577445  1.538187  \n",
       "2519  1.948022  2.017467  3.103332  1.735650  1.989117  2.534869  1.557937  \n",
       "2520  1.951342  2.013318  3.122581  1.749242  1.977909  2.489613  1.523625  \n",
       "\n",
       "[2521 rows x 500 columns]"
      ]
     },
     "execution_count": 109,
     "metadata": {},
     "output_type": "execute_result"
    }
   ],
   "source": [
    "# Run the Monte Carlo simulation to forecast 10 years cumulative returns\n",
    "MC_10yr.calc_cumulative_return()\n"
   ]
  },
  {
   "cell_type": "code",
   "execution_count": 110,
   "metadata": {},
   "outputs": [
    {
     "data": {
      "image/png": "[encoded data removed]",
      "text/plain": [
       "<Figure size 432x288 with 1 Axes>"
      ]
     },
     "metadata": {
      "needs_background": "light"
     },
     "output_type": "display_data"
    }
   ],
   "source": [
    "# Visualize the 10-year Monte Carlo simulation by creating an\n",
    "# overlay line plot\n",
    "MC_sim_line_plot = MC_10yr.plot_simulation()\n"
   ]
  },
  {
   "cell_type": "code",
   "execution_count": 111,
   "metadata": {},
   "outputs": [
    {
     "data": {
      "image/png": "[encoded data removed]",
      "text/plain": [
       "<Figure size 432x288 with 1 Axes>"
      ]
     },
     "metadata": {
      "needs_background": "light"
     },
     "output_type": "display_data"
    }
   ],
   "source": [
    "# Visualize the probability distribution of the 10-year Monte Carlo simulation \n",
    "# by plotting a histogram\n",
    "MC_sim_dist_plot = MC_10yr.plot_distribution()\n"
   ]
  },
  {
   "cell_type": "code",
   "execution_count": 116,
   "metadata": {},
   "outputs": [
    {
     "data": {
      "text/plain": [
       "count           500.000000\n",
       "mean              2.105944\n",
       "std               1.573267\n",
       "min               0.286654\n",
       "25%               1.137239\n",
       "50%               1.645230\n",
       "75%               2.574853\n",
       "max              14.247793\n",
       "95% CI Lower      0.526004\n",
       "95% CI Upper      6.092362\n",
       "Name: 2520, dtype: float64"
      ]
     },
     "execution_count": 116,
     "metadata": {},
     "output_type": "execute_result"
    }
   ],
   "source": [
    "# Generate summary statistics from the 10-year Monte Carlo simulation results\n",
    "# Save the results as a variable\n",
    "MC_10yr_summary_stats = MC_10yr.summarize_cumulative_return()\n",
    "\n",
    "\n",
    "# Review the 10-year Monte Carlo summary statistics\n",
    "MC_10yr_summary_stats"
   ]
  },
  {
   "cell_type": "markdown",
   "metadata": {},
   "source": [
    "### Answer the following questions:"
   ]
  },
  {
   "cell_type": "markdown",
   "metadata": {},
   "source": [
    "#### Question: Using the current value of only the stock and bond portion of the member's portfolio and the summary statistics that you generated from the new Monte Carlo simulation, what are the lower and upper bounds for the expected value of the portfolio (with the new weights) with a 95% confidence interval?"
   ]
  },
  {
   "cell_type": "code",
   "execution_count": 117,
   "metadata": {},
   "outputs": [
    {
     "name": "stdout",
     "output_type": "stream",
     "text": [
      "The current balance of the stock and bond portion of the portfolio is $ 59375.0\n"
     ]
    }
   ],
   "source": [
    "# Print the current balance of the stock and bond portion of the members portfolio\n",
    "print(\"The current balance of the stock and bond portion of the portfolio is $\", total_stocks_bonds)\n"
   ]
  },
  {
   "cell_type": "code",
   "execution_count": 119,
   "metadata": {},
   "outputs": [
    {
     "name": "stdout",
     "output_type": "stream",
     "text": [
      "Over the next 10 years, there is a 95% chance that the current bond portfolio value will end in returns between $ 31231.50 and $ 361733.99\n"
     ]
    }
   ],
   "source": [
    "# Use the lower and upper `95%` confidence intervals to calculate the range of the possible outcomes for the current stock/bond portfolio\n",
    "ci_lower_ten_cumulative_return = MC_10yr_summary_stats[8] * total_stocks_bonds\n",
    "ci_upper_ten_cumulative_return = MC_10yr_summary_stats[9] * total_stocks_bonds\n",
    "\n",
    "# Print the result of your calculations\n",
    "print(f\"Over the next 10 years, there is a 95% chance that the current bond portfolio value will end in returns between ${ci_lower_ten_cumulative_return: .2f} and ${ci_upper_ten_cumulative_return: .2f}\")\n",
    "\n"
   ]
  },
  {
   "cell_type": "markdown",
   "metadata": {},
   "source": [
    "#### Question: Will weighting the portfolio more heavily to stocks allow the credit union members to retire after only 10 years?"
   ]
  },
  {
   "cell_type": "raw",
   "metadata": {},
   "source": [
    "**Answer** In general, yes. Weighing the portfolio towards higher-risk/higher-rewards investments like stocks will provide a higher return over the shorter time horizon.  Our example shows, the estimated returns in 10 years could be as high as half what the 30 year returns could be if the riskier stocks are weighted over the bonds. However, these estimates are making ALOT of assumptions. I would recommend more indepth council with the credit union members to look more closely at their over-all financial stability, before saying they could afford to retire in 10 years. Afterall, there is still a 2.5% chance they could end up with ~$28,000 less than what they started with."
   ]
  },
  {
   "cell_type": "code",
   "execution_count": null,
   "metadata": {},
   "outputs": [],
   "source": []
  }
 ],
 "metadata": {
  "kernelspec": {
   "display_name": "Python (dev)",
   "language": "python",
   "name": "dev"
  },
  "language_info": {
   "codemirror_mode": {
    "name": "ipython",
    "version": 3
   },
   "file_extension": ".py",
   "mimetype": "text/x-python",
   "name": "python",
   "nbconvert_exporter": "python",
   "pygments_lexer": "ipython3",
   "version": "3.7.13"
  }
 },
 "nbformat": 4,
 "nbformat_minor": 4
}
